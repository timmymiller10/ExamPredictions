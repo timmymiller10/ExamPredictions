{
 "cells": [
  {
   "cell_type": "code",
   "execution_count": 2,
   "metadata": {
    "vscode": {
     "languageId": "r"
    }
   },
   "outputs": [
    {
     "name": "stdout",
     "output_type": "stream",
     "text": [
      "\n",
      "The downloaded binary packages are in\n",
      "\t/var/folders/gm/2375ng390_b6r6sfvhbytn880000gn/T//RtmpxA4EnW/downloaded_packages\n"
     ]
    }
   ],
   "source": [
    "install.packages(\"ggfortify\")\n",
    "\n",
    "suppressPackageStartupMessages(library(tidyverse))\n",
    "suppressPackageStartupMessages(library(readr))\n",
    "suppressPackageStartupMessages(library(ggplot2))\n",
    "suppressPackageStartupMessages(library(ggfortify))\n",
    "suppressPackageStartupMessages(library(broom))"
   ]
  },
  {
   "cell_type": "code",
   "execution_count": 3,
   "metadata": {
    "vscode": {
     "languageId": "r"
    }
   },
   "outputs": [
    {
     "name": "stderr",
     "output_type": "stream",
     "text": [
      "\u001b[1mRows: \u001b[22m\u001b[34m1000\u001b[39m \u001b[1mColumns: \u001b[22m\u001b[34m8\u001b[39m\n",
      "\u001b[36m──\u001b[39m \u001b[1mColumn specification\u001b[22m \u001b[36m────────────────────────────────────────────────────────\u001b[39m\n",
      "\u001b[1mDelimiter:\u001b[22m \",\"\n",
      "\u001b[31mchr\u001b[39m (5): gender, race/ethnicity, parental level of education, lunch, test pr...\n",
      "\u001b[32mdbl\u001b[39m (3): math score, reading score, writing score\n",
      "\n",
      "\u001b[36mℹ\u001b[39m Use `spec()` to retrieve the full column specification for this data.\n",
      "\u001b[36mℹ\u001b[39m Specify the column types or set `show_col_types = FALSE` to quiet this message.\n"
     ]
    }
   ],
   "source": [
    "exams <- read_csv(\"exams.csv\")\n"
   ]
  },
  {
   "cell_type": "markdown",
   "metadata": {},
   "source": [
    "## Data Cleaning"
   ]
  },
  {
   "cell_type": "code",
   "execution_count": 4,
   "metadata": {
    "vscode": {
     "languageId": "r"
    }
   },
   "outputs": [
    {
     "name": "stdout",
     "output_type": "stream",
     "text": [
      "Rows: 1,000\n",
      "Columns: 8\n",
      "$ gender           \u001b[3m\u001b[90m<chr>\u001b[39m\u001b[23m \"male\", \"female\", \"male\", \"male\", \"male\", \"female\", \"…\n",
      "$ race_ethnicity   \u001b[3m\u001b[90m<chr>\u001b[39m\u001b[23m \"group A\", \"group D\", \"group E\", \"group B\", \"group E\"…\n",
      "$ parent_edu       \u001b[3m\u001b[90m<chr>\u001b[39m\u001b[23m \"high school\", \"some high school\", \"some college\", \"h…\n",
      "$ lunch            \u001b[3m\u001b[90m<chr>\u001b[39m\u001b[23m \"standard\", \"free/reduced\", \"free/reduced\", \"standard…\n",
      "$ test_prep_course \u001b[3m\u001b[90m<chr>\u001b[39m\u001b[23m \"completed\", \"none\", \"none\", \"none\", \"completed\", \"no…\n",
      "$ math_score       \u001b[3m\u001b[90m<dbl>\u001b[39m\u001b[23m 67, 40, 59, 77, 78, 63, 62, 93, 63, 47, 99, 80, 77, 7…\n",
      "$ read_score       \u001b[3m\u001b[90m<dbl>\u001b[39m\u001b[23m 67, 59, 60, 78, 73, 77, 59, 88, 56, 42, 83, 87, 87, 7…\n",
      "$ write_score      \u001b[3m\u001b[90m<dbl>\u001b[39m\u001b[23m 63, 55, 50, 68, 68, 76, 63, 84, 65, 45, 85, 90, 85, 7…\n"
     ]
    }
   ],
   "source": [
    "exams <- exams %>%\n",
    "    rename(\n",
    "        \"race_ethnicity\" = \"race/ethnicity\",\n",
    "        \"parent_edu\" = \"parental level of education\",\n",
    "        \"math_score\" = \"math score\",\n",
    "        \"read_score\" = \"reading score\",\n",
    "        \"write_score\" = \"writing score\",\n",
    "        \"test_prep_course\" = \"test preparation course\"\n",
    "    )\n",
    "glimpse(exams)"
   ]
  },
  {
   "cell_type": "code",
   "execution_count": 5,
   "metadata": {
    "vscode": {
     "languageId": "r"
    }
   },
   "outputs": [
    {
     "data": {
      "text/html": [
       "<table class=\"dataframe\">\n",
       "<caption>A tibble: 2 × 5</caption>\n",
       "<thead>\n",
       "\t<tr><th scope=col>gender</th><th scope=col>mean_math</th><th scope=col>mean_read</th><th scope=col>mean_write</th><th scope=col>sample_size</th></tr>\n",
       "\t<tr><th scope=col>&lt;chr&gt;</th><th scope=col>&lt;dbl&gt;</th><th scope=col>&lt;dbl&gt;</th><th scope=col>&lt;dbl&gt;</th><th scope=col>&lt;int&gt;</th></tr>\n",
       "</thead>\n",
       "<tbody>\n",
       "\t<tr><td>female</td><td>63.19669</td><td>71.88820</td><td>71.70807</td><td>483</td></tr>\n",
       "\t<tr><td>male  </td><td>69.38491</td><td>66.30561</td><td>64.02901</td><td>517</td></tr>\n",
       "</tbody>\n",
       "</table>\n"
      ],
      "text/latex": [
       "A tibble: 2 × 5\n",
       "\\begin{tabular}{lllll}\n",
       " gender & mean\\_math & mean\\_read & mean\\_write & sample\\_size\\\\\n",
       " <chr> & <dbl> & <dbl> & <dbl> & <int>\\\\\n",
       "\\hline\n",
       "\t female & 63.19669 & 71.88820 & 71.70807 & 483\\\\\n",
       "\t male   & 69.38491 & 66.30561 & 64.02901 & 517\\\\\n",
       "\\end{tabular}\n"
      ],
      "text/markdown": [
       "\n",
       "A tibble: 2 × 5\n",
       "\n",
       "| gender &lt;chr&gt; | mean_math &lt;dbl&gt; | mean_read &lt;dbl&gt; | mean_write &lt;dbl&gt; | sample_size &lt;int&gt; |\n",
       "|---|---|---|---|---|\n",
       "| female | 63.19669 | 71.88820 | 71.70807 | 483 |\n",
       "| male   | 69.38491 | 66.30561 | 64.02901 | 517 |\n",
       "\n"
      ],
      "text/plain": [
       "  gender mean_math mean_read mean_write sample_size\n",
       "1 female 63.19669  71.88820  71.70807   483        \n",
       "2 male   69.38491  66.30561  64.02901   517        "
      ]
     },
     "metadata": {},
     "output_type": "display_data"
    }
   ],
   "source": [
    "male_vs_female <- exams %>% \n",
    "    group_by(gender) %>%\n",
    "    summarize(\n",
    "        mean_math = mean(math_score),\n",
    "        mean_read = mean(read_score),\n",
    "        mean_write = mean(write_score),\n",
    "        sample_size = n()\n",
    "        )\n",
    "male_vs_female\n"
   ]
  },
  {
   "cell_type": "markdown",
   "metadata": {},
   "source": [
    "## Dummy variables\n",
    "* **Gender**\n",
    "    + Male = 1, Female = 0\n",
    "* **Race/Ethnicity**\n",
    "    + groupA = 1, groupB = 2, groupC = 3, groupD = 4, groupE = 5\n",
    "* **Parent Level of Education**\n",
    "    + some high school = 1, high school = 2, some college = 3, associate's degree = 4, bachelor's degree = 5, master's degree = 6\n",
    "* **Lunch**\n",
    "    + standard = 1, reduced/free = 0"
   ]
  },
  {
   "cell_type": "markdown",
   "metadata": {},
   "source": [
    "### Gender"
   ]
  },
  {
   "cell_type": "code",
   "execution_count": 6,
   "metadata": {
    "vscode": {
     "languageId": "r"
    }
   },
   "outputs": [],
   "source": [
    "exams_clean <- exams\n",
    "exams_clean$gender <- ifelse(exams_clean$gender == \"male\", 1, 0) \n",
    "exams_clean$gender <- as.numeric(exams_clean$gender)"
   ]
  },
  {
   "cell_type": "markdown",
   "metadata": {},
   "source": [
    "### Race/Ethnicity"
   ]
  },
  {
   "cell_type": "code",
   "execution_count": 7,
   "metadata": {
    "vscode": {
     "languageId": "r"
    }
   },
   "outputs": [
    {
     "data": {
      "text/html": [
       "<style>\n",
       ".list-inline {list-style: none; margin:0; padding: 0}\n",
       ".list-inline>li {display: inline-block}\n",
       ".list-inline>li:not(:last-child)::after {content: \"\\00b7\"; padding: 0 .5ex}\n",
       "</style>\n",
       "<ol class=list-inline><li>'group A'</li><li>'group D'</li><li>'group E'</li><li>'group B'</li><li>'group C'</li></ol>\n"
      ],
      "text/latex": [
       "\\begin{enumerate*}\n",
       "\\item 'group A'\n",
       "\\item 'group D'\n",
       "\\item 'group E'\n",
       "\\item 'group B'\n",
       "\\item 'group C'\n",
       "\\end{enumerate*}\n"
      ],
      "text/markdown": [
       "1. 'group A'\n",
       "2. 'group D'\n",
       "3. 'group E'\n",
       "4. 'group B'\n",
       "5. 'group C'\n",
       "\n",
       "\n"
      ],
      "text/plain": [
       "[1] \"group A\" \"group D\" \"group E\" \"group B\" \"group C\""
      ]
     },
     "metadata": {},
     "output_type": "display_data"
    }
   ],
   "source": [
    "unique(exams_clean$race_ethnicity)"
   ]
  },
  {
   "cell_type": "code",
   "execution_count": 8,
   "metadata": {
    "vscode": {
     "languageId": "r"
    }
   },
   "outputs": [],
   "source": [
    "\n",
    "exams_clean$race_ethnicity <- ifelse(exams_clean$race_ethnicity == \"group A\", 1, exams_clean$race_ethnicity)\n",
    "exams_clean$race_ethnicity <- ifelse(exams_clean$race_ethnicity == \"group B\", 2, exams_clean$race_ethnicity)\n",
    "exams_clean$race_ethnicity <- ifelse(exams_clean$race_ethnicity == \"group C\", 3, exams_clean$race_ethnicity)\n",
    "exams_clean$race_ethnicity <- ifelse(exams_clean$race_ethnicity == \"group D\", 4, exams_clean$race_ethnicity)\n",
    "exams_clean$race_ethnicity <- ifelse(exams_clean$race_ethnicity == \"group E\", 5, exams_clean$race_ethnicity)\n",
    "\n",
    "exams_clean$race_ethnicity <- as.numeric(exams_clean$race_ethnicity)\n"
   ]
  },
  {
   "cell_type": "markdown",
   "metadata": {},
   "source": [
    "### Parental level of Education"
   ]
  },
  {
   "cell_type": "code",
   "execution_count": 9,
   "metadata": {
    "vscode": {
     "languageId": "r"
    }
   },
   "outputs": [
    {
     "data": {
      "text/html": [
       "<style>\n",
       ".list-inline {list-style: none; margin:0; padding: 0}\n",
       ".list-inline>li {display: inline-block}\n",
       ".list-inline>li:not(:last-child)::after {content: \"\\00b7\"; padding: 0 .5ex}\n",
       "</style>\n",
       "<ol class=list-inline><li>'high school'</li><li>'some high school'</li><li>'some college'</li><li>'associate\\'s degree'</li><li>'bachelor\\'s degree'</li><li>'master\\'s degree'</li></ol>\n"
      ],
      "text/latex": [
       "\\begin{enumerate*}\n",
       "\\item 'high school'\n",
       "\\item 'some high school'\n",
       "\\item 'some college'\n",
       "\\item 'associate\\textbackslash{}'s degree'\n",
       "\\item 'bachelor\\textbackslash{}'s degree'\n",
       "\\item 'master\\textbackslash{}'s degree'\n",
       "\\end{enumerate*}\n"
      ],
      "text/markdown": [
       "1. 'high school'\n",
       "2. 'some high school'\n",
       "3. 'some college'\n",
       "4. 'associate\\'s degree'\n",
       "5. 'bachelor\\'s degree'\n",
       "6. 'master\\'s degree'\n",
       "\n",
       "\n"
      ],
      "text/plain": [
       "[1] \"high school\"        \"some high school\"   \"some college\"      \n",
       "[4] \"associate's degree\" \"bachelor's degree\"  \"master's degree\"   "
      ]
     },
     "metadata": {},
     "output_type": "display_data"
    }
   ],
   "source": [
    "unique(exams_clean$parent_edu)"
   ]
  },
  {
   "cell_type": "code",
   "execution_count": 10,
   "metadata": {
    "vscode": {
     "languageId": "r"
    }
   },
   "outputs": [],
   "source": [
    "exams_clean$parent_edu <- ifelse(exams_clean$parent_edu == \"some high school\", 1, exams_clean$parent_edu)\n",
    "exams_clean$parent_edu <- ifelse(exams_clean$parent_edu == \"high school\", 2, exams_clean$parent_edu)\n",
    "exams_clean$parent_edu <- ifelse(exams_clean$parent_edu == \"some college\", 3, exams_clean$parent_edu)\n",
    "exams_clean$parent_edu <- ifelse(exams_clean$parent_edu == \"associate\\'s degree\", 4, exams_clean$parent_edu)\n",
    "exams_clean$parent_edu <- ifelse(exams_clean$parent_edu == \"bachelor\\'s degree\", 5, exams_clean$parent_edu)\n",
    "exams_clean$parent_edu <- ifelse(exams_clean$parent_edu == \"master\\'s degree\", 6, exams_clean$parent_edu)\n",
    "\n",
    "exams_clean$parent_edu <- as.numeric(exams_clean$parent_edu)"
   ]
  },
  {
   "cell_type": "code",
   "execution_count": 11,
   "metadata": {
    "vscode": {
     "languageId": "r"
    }
   },
   "outputs": [
    {
     "name": "stdout",
     "output_type": "stream",
     "text": [
      "spec_tbl_df [1,000 × 8] (S3: spec_tbl_df/tbl_df/tbl/data.frame)\n",
      " $ gender          : num [1:1000] 1 0 1 1 1 0 0 1 1 1 ...\n",
      " $ race_ethnicity  : num [1:1000] 1 4 5 2 5 4 1 5 4 3 ...\n",
      " $ parent_edu      : num [1:1000] 2 1 3 2 4 2 5 3 2 3 ...\n",
      " $ lunch           : chr [1:1000] \"standard\" \"free/reduced\" \"free/reduced\" \"standard\" ...\n",
      " $ test_prep_course: chr [1:1000] \"completed\" \"none\" \"none\" \"none\" ...\n",
      " $ math_score      : num [1:1000] 67 40 59 77 78 63 62 93 63 47 ...\n",
      " $ read_score      : num [1:1000] 67 59 60 78 73 77 59 88 56 42 ...\n",
      " $ write_score     : num [1:1000] 63 55 50 68 68 76 63 84 65 45 ...\n",
      " - attr(*, \"spec\")=\n",
      "  .. cols(\n",
      "  ..   gender = \u001b[31mcol_character()\u001b[39m,\n",
      "  ..   `race/ethnicity` = \u001b[31mcol_character()\u001b[39m,\n",
      "  ..   `parental level of education` = \u001b[31mcol_character()\u001b[39m,\n",
      "  ..   lunch = \u001b[31mcol_character()\u001b[39m,\n",
      "  ..   `test preparation course` = \u001b[31mcol_character()\u001b[39m,\n",
      "  ..   `math score` = \u001b[32mcol_double()\u001b[39m,\n",
      "  ..   `reading score` = \u001b[32mcol_double()\u001b[39m,\n",
      "  ..   `writing score` = \u001b[32mcol_double()\u001b[39m\n",
      "  .. )\n",
      " - attr(*, \"problems\")=<externalptr> \n"
     ]
    }
   ],
   "source": [
    "str(exams_clean)"
   ]
  },
  {
   "cell_type": "markdown",
   "metadata": {},
   "source": [
    "### Lunch"
   ]
  },
  {
   "cell_type": "code",
   "execution_count": 12,
   "metadata": {
    "vscode": {
     "languageId": "r"
    }
   },
   "outputs": [],
   "source": [
    "exams_clean$lunch <- ifelse(exams_clean$lunch == \"standard\", 1, 0)\n",
    "\n",
    "exams_clean$lunch <- as.numeric(exams_clean$lunch)"
   ]
  },
  {
   "cell_type": "markdown",
   "metadata": {},
   "source": [
    "### Test Prep Course"
   ]
  },
  {
   "cell_type": "code",
   "execution_count": 13,
   "metadata": {
    "vscode": {
     "languageId": "r"
    }
   },
   "outputs": [],
   "source": [
    "\n",
    "exams_clean$test_prep_course <- ifelse(exams_clean$test_prep_course == \"completed\", 1, 0)\n",
    "\n",
    "exams_clean$test_prep_course <- as.numeric(exams_clean$test_prep_course)"
   ]
  },
  {
   "cell_type": "markdown",
   "metadata": {},
   "source": [
    "## Re-evaluate new data"
   ]
  },
  {
   "cell_type": "markdown",
   "metadata": {},
   "source": [
    "### Cumulative test score predictions"
   ]
  },
  {
   "cell_type": "code",
   "execution_count": 14,
   "metadata": {
    "vscode": {
     "languageId": "r"
    }
   },
   "outputs": [
    {
     "name": "stdout",
     "output_type": "stream",
     "text": [
      "spec_tbl_df [1,000 × 8] (S3: spec_tbl_df/tbl_df/tbl/data.frame)\n",
      " $ gender          : num [1:1000] 1 0 1 1 1 0 0 1 1 1 ...\n",
      " $ race_ethnicity  : num [1:1000] 1 4 5 2 5 4 1 5 4 3 ...\n",
      " $ parent_edu      : num [1:1000] 2 1 3 2 4 2 5 3 2 3 ...\n",
      " $ lunch           : num [1:1000] 1 0 0 1 1 1 1 1 1 0 ...\n",
      " $ test_prep_course: num [1:1000] 1 0 0 0 1 0 0 1 0 0 ...\n",
      " $ math_score      : num [1:1000] 67 40 59 77 78 63 62 93 63 47 ...\n",
      " $ read_score      : num [1:1000] 67 59 60 78 73 77 59 88 56 42 ...\n",
      " $ write_score     : num [1:1000] 63 55 50 68 68 76 63 84 65 45 ...\n",
      " - attr(*, \"spec\")=\n",
      "  .. cols(\n",
      "  ..   gender = \u001b[31mcol_character()\u001b[39m,\n",
      "  ..   `race/ethnicity` = \u001b[31mcol_character()\u001b[39m,\n",
      "  ..   `parental level of education` = \u001b[31mcol_character()\u001b[39m,\n",
      "  ..   lunch = \u001b[31mcol_character()\u001b[39m,\n",
      "  ..   `test preparation course` = \u001b[31mcol_character()\u001b[39m,\n",
      "  ..   `math score` = \u001b[32mcol_double()\u001b[39m,\n",
      "  ..   `reading score` = \u001b[32mcol_double()\u001b[39m,\n",
      "  ..   `writing score` = \u001b[32mcol_double()\u001b[39m\n",
      "  .. )\n",
      " - attr(*, \"problems\")=<externalptr> \n"
     ]
    }
   ],
   "source": [
    "str(exams_clean)"
   ]
  },
  {
   "cell_type": "code",
   "execution_count": 15,
   "metadata": {
    "vscode": {
     "languageId": "r"
    }
   },
   "outputs": [
    {
     "name": "stdout",
     "output_type": "stream",
     "text": [
      "tibble [1,000 × 6] (S3: tbl_df/tbl/data.frame)\n",
      " $ gender          : num [1:1000] 1 0 1 1 1 0 0 1 1 1 ...\n",
      " $ race_ethnicity  : num [1:1000] 1 4 5 2 5 4 1 5 4 3 ...\n",
      " $ parent_edu      : num [1:1000] 2 1 3 2 4 2 5 3 2 3 ...\n",
      " $ lunch           : num [1:1000] 1 0 0 1 1 1 1 1 1 0 ...\n",
      " $ test_prep_course: num [1:1000] 1 0 0 0 1 0 0 1 0 0 ...\n",
      " $ cum_score       : num [1:1000] 197 154 169 223 219 216 184 265 184 134 ...\n"
     ]
    }
   ],
   "source": [
    "df1 <- exams_clean %>%\n",
    "    mutate(\n",
    "        cum_score = math_score + read_score + write_score\n",
    "    )\n",
    "df1 <- df1[-c(6:8)]\n",
    "str(df1)"
   ]
  },
  {
   "cell_type": "code",
   "execution_count": 16,
   "metadata": {
    "vscode": {
     "languageId": "r"
    }
   },
   "outputs": [],
   "source": [
    "# Training vs testing dataset\n",
    "test <- df1[250:350,]\n",
    "train <- df1[-c(250:350),]"
   ]
  },
  {
   "cell_type": "code",
   "execution_count": 17,
   "metadata": {
    "vscode": {
     "languageId": "r"
    }
   },
   "outputs": [
    {
     "data": {
      "text/plain": [
       "\n",
       "Call:\n",
       "lm(formula = cum_score ~ ., data = train)\n",
       "\n",
       "Residuals:\n",
       "     Min       1Q   Median       3Q      Max \n",
       "-112.829  -25.130    0.927   27.612   87.419 \n",
       "\n",
       "Coefficients:\n",
       "                 Estimate Std. Error t value Pr(>|t|)    \n",
       "(Intercept)      130.0876     5.0859  25.578  < 2e-16 ***\n",
       "gender            -7.1504     2.4891  -2.873  0.00417 ** \n",
       "race_ethnicity     8.0240     1.0968   7.316  5.7e-13 ***\n",
       "parent_edu         7.8898     0.8251   9.562  < 2e-16 ***\n",
       "lunch             30.5793     2.6059  11.735  < 2e-16 ***\n",
       "test_prep_course  21.6074     2.6180   8.253  5.5e-16 ***\n",
       "---\n",
       "Signif. codes:  0 ‘***’ 0.001 ‘**’ 0.01 ‘*’ 0.05 ‘.’ 0.1 ‘ ’ 1\n",
       "\n",
       "Residual standard error: 37.17 on 893 degrees of freedom\n",
       "Multiple R-squared:  0.2871,\tAdjusted R-squared:  0.2831 \n",
       "F-statistic: 71.93 on 5 and 893 DF,  p-value: < 2.2e-16\n"
      ]
     },
     "metadata": {},
     "output_type": "display_data"
    }
   ],
   "source": [
    "lm1 <- lm(cum_score ~ ., data = train)\n",
    "summary(lm1)"
   ]
  },
  {
   "cell_type": "code",
   "execution_count": 18,
   "metadata": {
    "vscode": {
     "languageId": "r"
    }
   },
   "outputs": [
    {
     "data": {
      "image/png": "[encoded data removed]",
      "text/plain": [
       "plot without title"
      ]
     },
     "metadata": {
      "image/png": {
       "height": 420,
       "width": 420
      }
     },
     "output_type": "display_data"
    }
   ],
   "source": [
    "autoplot(lm1)"
   ]
  },
  {
   "cell_type": "code",
   "execution_count": 19,
   "metadata": {
    "vscode": {
     "languageId": "r"
    }
   },
   "outputs": [
    {
     "data": {
      "text/html": [
       "<style>\n",
       ".dl-inline {width: auto; margin:0; padding: 0}\n",
       ".dl-inline>dt, .dl-inline>dd {float: none; width: auto; display: inline-block}\n",
       ".dl-inline>dt::after {content: \":\\0020\"; padding-right: .5ex}\n",
       ".dl-inline>dt:not(:first-of-type) {padding-left: .5ex}\n",
       "</style><dl class=dl-inline><dt>1</dt><dd>-43.25723013099</dd><dt>2</dt><dd>-8.147048812636</dd><dt>3</dt><dd>-45.5456715401524</dd><dt>4</dt><dd>2.50227699398391</dd><dt>5</dt><dd>7.27415599137103</dd><dt>6</dt><dd>3.93915823864987</dd><dt>7</dt><dd>22.6526484805694</dd><dt>8</dt><dd>-31.0103710806366</dd><dt>9</dt><dd>1.67662274763751</dd><dt>10</dt><dd>-58.9746347100643</dd><dt>11</dt><dd>-40.6498424929561</dd><dt>12</dt><dd>-15.4192743206351</dd><dt>13</dt><dd>65.5184928951472</dd><dt>14</dt><dd>23.5022769939839</dd><dt>15</dt><dd>27.1717330389219</dd><dt>16</dt><dd>-44.8903353679821</dd><dt>17</dt><dd>-14.4977230060161</dd><dt>18</dt><dd>-6.85224122814626</dd><dt>19</dt><dd>4.32210452550734</dd><dt>20</dt><dd>23.384337309725</dd><dt>21</dt><dd>14.4562601109295</dd><dt>22</dt><dd>-21.3713257864988</dd><dt>23</dt><dd>0.652648480569354</dd><dt>24</dt><dd>-3.04846522047245</dd><dt>25</dt><dd>-69.4335585707165</dd><dt>26</dt><dd>-63.787912415533</dd><dt>27</dt><dd>-29.3233772523625</dd><dt>28</dt><dd>-22.036867494282</dd><dt>29</dt><dd>6.3460787925755</dd><dt>30</dt><dd>56.494518628079</dd><dt>31</dt><dd>8.99948331366386</dd><dt>32</dt><dd>-52.4977230060161</dd><dt>33</dt><dd>-53.196905055976</dd><dt>34</dt><dd>7.41239029126163</dd><dt>35</dt><dd>57.7025797007786</dd><dt>36</dt><dd>31.4342685299342</dd><dt>37</dt><dd>-27.8522412281463</dd><dt>38</dt><dd>-46.4575328377846</dd><dt>39</dt><dd>56.2579400902077</dd><dt>40</dt><dd>-47.9506604429961</dd><dt>41</dt><dd>15.9515347795275</dd><dt>42</dt><dd>-18.8522412281463</dd><dt>43</dt><dd>-46.4774283903843</dd><dt>44</dt><dd>4.3099673388125</dd><dt>45</dt><dd>-27.036867494282</dd><dt>46</dt><dd>52.2160019216218</dd><dt>47</dt><dd>-53.3713257864988</dd><dt>48</dt><dd>19.9229423374866</dd><dt>49</dt><dd>43.6565628177241</dd><dt>50</dt><dd>8.34414714149361</dd><dt>51</dt><dd>72.3920956756299</dd><dt>52</dt><dd>67.6546311666422</dd><dt>53</dt><dd>11.8510195362821</dd><dt>54</dt><dd>-3.21121324793558</dd><dt>55</dt><dd>-5.74205990979226</dd><dt>56</dt><dd>25.0615517205679</dd><dt>57</dt><dd>29.384337309725</dd><dt>58</dt><dd>3.36812140856176</dd><dt>59</dt><dd>15.8794476010094</dd><dt>60</dt><dd>12.2119232071533</dd><dt>61</dt><dd>4.64496509153366</dd><dt>62</dt><dd>-3.8002139795415</dd><dt>63</dt><dd>46.6286742135012</dd><dt>64</dt><dd>37.5684241153564</dd><dt>65</dt><dd>-6.08672373762201</dd><dt>66</dt><dd>7.14775877185374</dd><dt>67</dt><dd>-28.0944821035269</dd><dt>68</dt><dd>33.1258805331811</dd><dt>69</dt><dd>-48.7420599097923</dd><dt>70</dt><dd>-68.926686175928</dd><dt>71</dt><dd>-37.7180856427241</dd><dt>72</dt><dd>37.4441229242347</dd><dt>73</dt><dd>-23.5636354416702</dd><dt>74</dt><dd>48.5184928951472</dd><dt>75</dt><dd>-11.2208793230442</dd><dt>76</dt><dd>-49.4737487389479</dd><dt>77</dt><dd>1.6286742135012</dd><dt>78</dt><dd>-41.8481625136778</dd><dt>79</dt><dd>-7.52945563898911</dd><dt>80</dt><dd>23.3099673388125</dd><dt>81</dt><dd>49.7791206769558</dd><dt>82</dt><dd>-16.7420599097923</dd><dt>83</dt><dd>-33.7839980783782</dd><dt>84</dt><dd>48.2579400902077</dd><dt>85</dt><dd>-67.4977230060161</dd><dt>86</dt><dd>62.3681214085618</dd><dt>87</dt><dd>12.7551464098877</dd><dt>88</dt><dd>9.70257970077856</dd><dt>89</dt><dd>45.9871067727862</dd><dt>90</dt><dd>28.2981302584392</dd><dt>91</dt><dd>-16.9220680009552</dd><dt>92</dt><dd>29.6766227476375</dd><dt>93</dt><dd>2.89896807041842</dd><dt>94</dt><dd>1.56842411535641</dd><dt>95</dt><dd>14.6526484805694</dd><dt>96</dt><dd>-32.0484652204725</dd><dt>97</dt><dd>1.70257970077856</dd><dt>98</dt><dd>-20.946206645337</dd><dt>99</dt><dd>-30.9001897622826</dd><dt>100</dt><dd>23.4123902912616</dd><dt>101</dt><dd>-45.787912415533</dd></dl>\n"
      ],
      "text/latex": [
       "\\begin{description*}\n",
       "\\item[1] -43.25723013099\n",
       "\\item[2] -8.147048812636\n",
       "\\item[3] -45.5456715401524\n",
       "\\item[4] 2.50227699398391\n",
       "\\item[5] 7.27415599137103\n",
       "\\item[6] 3.93915823864987\n",
       "\\item[7] 22.6526484805694\n",
       "\\item[8] -31.0103710806366\n",
       "\\item[9] 1.67662274763751\n",
       "\\item[10] -58.9746347100643\n",
       "\\item[11] -40.6498424929561\n",
       "\\item[12] -15.4192743206351\n",
       "\\item[13] 65.5184928951472\n",
       "\\item[14] 23.5022769939839\n",
       "\\item[15] 27.1717330389219\n",
       "\\item[16] -44.8903353679821\n",
       "\\item[17] -14.4977230060161\n",
       "\\item[18] -6.85224122814626\n",
       "\\item[19] 4.32210452550734\n",
       "\\item[20] 23.384337309725\n",
       "\\item[21] 14.4562601109295\n",
       "\\item[22] -21.3713257864988\n",
       "\\item[23] 0.652648480569354\n",
       "\\item[24] -3.04846522047245\n",
       "\\item[25] -69.4335585707165\n",
       "\\item[26] -63.787912415533\n",
       "\\item[27] -29.3233772523625\n",
       "\\item[28] -22.036867494282\n",
       "\\item[29] 6.3460787925755\n",
       "\\item[30] 56.494518628079\n",
       "\\item[31] 8.99948331366386\n",
       "\\item[32] -52.4977230060161\n",
       "\\item[33] -53.196905055976\n",
       "\\item[34] 7.41239029126163\n",
       "\\item[35] 57.7025797007786\n",
       "\\item[36] 31.4342685299342\n",
       "\\item[37] -27.8522412281463\n",
       "\\item[38] -46.4575328377846\n",
       "\\item[39] 56.2579400902077\n",
       "\\item[40] -47.9506604429961\n",
       "\\item[41] 15.9515347795275\n",
       "\\item[42] -18.8522412281463\n",
       "\\item[43] -46.4774283903843\n",
       "\\item[44] 4.3099673388125\n",
       "\\item[45] -27.036867494282\n",
       "\\item[46] 52.2160019216218\n",
       "\\item[47] -53.3713257864988\n",
       "\\item[48] 19.9229423374866\n",
       "\\item[49] 43.6565628177241\n",
       "\\item[50] 8.34414714149361\n",
       "\\item[51] 72.3920956756299\n",
       "\\item[52] 67.6546311666422\n",
       "\\item[53] 11.8510195362821\n",
       "\\item[54] -3.21121324793558\n",
       "\\item[55] -5.74205990979226\n",
       "\\item[56] 25.0615517205679\n",
       "\\item[57] 29.384337309725\n",
       "\\item[58] 3.36812140856176\n",
       "\\item[59] 15.8794476010094\n",
       "\\item[60] 12.2119232071533\n",
       "\\item[61] 4.64496509153366\n",
       "\\item[62] -3.8002139795415\n",
       "\\item[63] 46.6286742135012\n",
       "\\item[64] 37.5684241153564\n",
       "\\item[65] -6.08672373762201\n",
       "\\item[66] 7.14775877185374\n",
       "\\item[67] -28.0944821035269\n",
       "\\item[68] 33.1258805331811\n",
       "\\item[69] -48.7420599097923\n",
       "\\item[70] -68.926686175928\n",
       "\\item[71] -37.7180856427241\n",
       "\\item[72] 37.4441229242347\n",
       "\\item[73] -23.5636354416702\n",
       "\\item[74] 48.5184928951472\n",
       "\\item[75] -11.2208793230442\n",
       "\\item[76] -49.4737487389479\n",
       "\\item[77] 1.6286742135012\n",
       "\\item[78] -41.8481625136778\n",
       "\\item[79] -7.52945563898911\n",
       "\\item[80] 23.3099673388125\n",
       "\\item[81] 49.7791206769558\n",
       "\\item[82] -16.7420599097923\n",
       "\\item[83] -33.7839980783782\n",
       "\\item[84] 48.2579400902077\n",
       "\\item[85] -67.4977230060161\n",
       "\\item[86] 62.3681214085618\n",
       "\\item[87] 12.7551464098877\n",
       "\\item[88] 9.70257970077856\n",
       "\\item[89] 45.9871067727862\n",
       "\\item[90] 28.2981302584392\n",
       "\\item[91] -16.9220680009552\n",
       "\\item[92] 29.6766227476375\n",
       "\\item[93] 2.89896807041842\n",
       "\\item[94] 1.56842411535641\n",
       "\\item[95] 14.6526484805694\n",
       "\\item[96] -32.0484652204725\n",
       "\\item[97] 1.70257970077856\n",
       "\\item[98] -20.946206645337\n",
       "\\item[99] -30.9001897622826\n",
       "\\item[100] 23.4123902912616\n",
       "\\item[101] -45.787912415533\n",
       "\\end{description*}\n"
      ],
      "text/markdown": [
       "1\n",
       ":   -43.257230130992\n",
       ":   -8.1470488126363\n",
       ":   -45.54567154015244\n",
       ":   2.502276993983915\n",
       ":   7.274155991371036\n",
       ":   3.939158238649877\n",
       ":   22.65264848056948\n",
       ":   -31.01037108063669\n",
       ":   1.6766227476375110\n",
       ":   -58.974634710064311\n",
       ":   -40.649842492956112\n",
       ":   -15.419274320635113\n",
       ":   65.518492895147214\n",
       ":   23.502276993983915\n",
       ":   27.171733038921916\n",
       ":   -44.890335367982117\n",
       ":   -14.497723006016118\n",
       ":   -6.8522412281462619\n",
       ":   4.3221045255073420\n",
       ":   23.38433730972521\n",
       ":   14.456260110929522\n",
       ":   -21.371325786498823\n",
       ":   0.65264848056935424\n",
       ":   -3.0484652204724525\n",
       ":   -69.433558570716526\n",
       ":   -63.78791241553327\n",
       ":   -29.323377252362528\n",
       ":   -22.03686749428229\n",
       ":   6.346078792575530\n",
       ":   56.49451862807931\n",
       ":   8.9994833136638632\n",
       ":   -52.497723006016133\n",
       ":   -53.19690505597634\n",
       ":   7.4123902912616335\n",
       ":   57.702579700778636\n",
       ":   31.434268529934237\n",
       ":   -27.852241228146338\n",
       ":   -46.457532837784639\n",
       ":   56.257940090207740\n",
       ":   -47.950660442996141\n",
       ":   15.951534779527542\n",
       ":   -18.852241228146343\n",
       ":   -46.477428390384344\n",
       ":   4.309967338812545\n",
       ":   -27.03686749428246\n",
       ":   52.216001921621847\n",
       ":   -53.371325786498848\n",
       ":   19.922942337486649\n",
       ":   43.656562817724150\n",
       ":   8.3441471414936151\n",
       ":   72.392095675629952\n",
       ":   67.654631166642253\n",
       ":   11.851019536282154\n",
       ":   -3.2112132479355855\n",
       ":   -5.7420599097922656\n",
       ":   25.061551720567957\n",
       ":   29.38433730972558\n",
       ":   3.3681214085617659\n",
       ":   15.879447601009460\n",
       ":   12.211923207153361\n",
       ":   4.6449650915336662\n",
       ":   -3.800213979541563\n",
       ":   46.628674213501264\n",
       ":   37.568424115356465\n",
       ":   -6.0867237376220166\n",
       ":   7.1477587718537467\n",
       ":   -28.094482103526968\n",
       ":   33.125880533181169\n",
       ":   -48.742059909792370\n",
       ":   -68.92668617592871\n",
       ":   -37.718085642724172\n",
       ":   37.444122924234773\n",
       ":   -23.563635441670274\n",
       ":   48.518492895147275\n",
       ":   -11.220879323044276\n",
       ":   -49.473748738947977\n",
       ":   1.628674213501278\n",
       ":   -41.848162513677879\n",
       ":   -7.5294556389891180\n",
       ":   23.309967338812581\n",
       ":   49.779120676955882\n",
       ":   -16.742059909792383\n",
       ":   -33.783998078378284\n",
       ":   48.257940090207785\n",
       ":   -67.497723006016186\n",
       ":   62.368121408561887\n",
       ":   12.755146409887788\n",
       ":   9.7025797007785689\n",
       ":   45.987106772786290\n",
       ":   28.298130258439291\n",
       ":   -16.922068000955292\n",
       ":   29.676622747637593\n",
       ":   2.8989680704184294\n",
       ":   1.5684241153564195\n",
       ":   14.652648480569496\n",
       ":   -32.048465220472597\n",
       ":   1.7025797007785698\n",
       ":   -20.94620664533799\n",
       ":   -30.9001897622826100\n",
       ":   23.4123902912616101\n",
       ":   -45.787912415533\n",
       "\n"
      ],
      "text/plain": [
       "          1           2           3           4           5           6 \n",
       "-43.2572301  -8.1470488 -45.5456715   2.5022770   7.2741560   3.9391582 \n",
       "          7           8           9          10          11          12 \n",
       " 22.6526485 -31.0103711   1.6766227 -58.9746347 -40.6498425 -15.4192743 \n",
       "         13          14          15          16          17          18 \n",
       " 65.5184929  23.5022770  27.1717330 -44.8903354 -14.4977230  -6.8522412 \n",
       "         19          20          21          22          23          24 \n",
       "  4.3221045  23.3843373  14.4562601 -21.3713258   0.6526485  -3.0484652 \n",
       "         25          26          27          28          29          30 \n",
       "-69.4335586 -63.7879124 -29.3233773 -22.0368675   6.3460788  56.4945186 \n",
       "         31          32          33          34          35          36 \n",
       "  8.9994833 -52.4977230 -53.1969051   7.4123903  57.7025797  31.4342685 \n",
       "         37          38          39          40          41          42 \n",
       "-27.8522412 -46.4575328  56.2579401 -47.9506604  15.9515348 -18.8522412 \n",
       "         43          44          45          46          47          48 \n",
       "-46.4774284   4.3099673 -27.0368675  52.2160019 -53.3713258  19.9229423 \n",
       "         49          50          51          52          53          54 \n",
       " 43.6565628   8.3441471  72.3920957  67.6546312  11.8510195  -3.2112132 \n",
       "         55          56          57          58          59          60 \n",
       " -5.7420599  25.0615517  29.3843373   3.3681214  15.8794476  12.2119232 \n",
       "         61          62          63          64          65          66 \n",
       "  4.6449651  -3.8002140  46.6286742  37.5684241  -6.0867237   7.1477588 \n",
       "         67          68          69          70          71          72 \n",
       "-28.0944821  33.1258805 -48.7420599 -68.9266862 -37.7180856  37.4441229 \n",
       "         73          74          75          76          77          78 \n",
       "-23.5636354  48.5184929 -11.2208793 -49.4737487   1.6286742 -41.8481625 \n",
       "         79          80          81          82          83          84 \n",
       " -7.5294556  23.3099673  49.7791207 -16.7420599 -33.7839981  48.2579401 \n",
       "         85          86          87          88          89          90 \n",
       "-67.4977230  62.3681214  12.7551464   9.7025797  45.9871068  28.2981303 \n",
       "         91          92          93          94          95          96 \n",
       "-16.9220680  29.6766227   2.8989681   1.5684241  14.6526485 -32.0484652 \n",
       "         97          98          99         100         101 \n",
       "  1.7025797 -20.9462066 -30.9001898  23.4123903 -45.7879124 "
      ]
     },
     "metadata": {},
     "output_type": "display_data"
    },
    {
     "data": {
      "text/html": [
       "-1.16380036005717"
      ],
      "text/latex": [
       "-1.16380036005717"
      ],
      "text/markdown": [
       "-1.16380036005717"
      ],
      "text/plain": [
       "[1] -1.1638"
      ]
     },
     "metadata": {},
     "output_type": "display_data"
    }
   ],
   "source": [
    "preds1 <- predict(lm1, test)\n",
    "preds1 - test$cum_score\n",
    "mean(preds1-test$cum_score)"
   ]
  },
  {
   "cell_type": "markdown",
   "metadata": {},
   "source": [
    "* On average, each prediction was below the actual value by about -1.16"
   ]
  },
  {
   "cell_type": "markdown",
   "metadata": {},
   "source": [
    "### Individual Test Score Predictions"
   ]
  },
  {
   "cell_type": "markdown",
   "metadata": {},
   "source": [
    "#### Math\n",
    "* Adj.R^2 = 0.2758\n",
    "* RSE = 12"
   ]
  },
  {
   "cell_type": "code",
   "execution_count": 20,
   "metadata": {
    "vscode": {
     "languageId": "r"
    }
   },
   "outputs": [],
   "source": [
    "df2 <- exams_clean[-c(7,8)]\n",
    "train2 <- df2[c(250:350),]\n",
    "test2 <- df2[-c(250:350), ] \n"
   ]
  },
  {
   "cell_type": "code",
   "execution_count": 21,
   "metadata": {
    "vscode": {
     "languageId": "r"
    }
   },
   "outputs": [
    {
     "data": {
      "text/plain": [
       "\n",
       "Call:\n",
       "lm(formula = math_score ~ ., data = train2)\n",
       "\n",
       "Residuals:\n",
       "    Min      1Q  Median      3Q     Max \n",
       "-27.368  -7.292  -0.583   8.438  26.090 \n",
       "\n",
       "Coefficients:\n",
       "                 Estimate Std. Error t value Pr(>|t|)    \n",
       "(Intercept)       42.5735     5.1757   8.226  1.0e-12 ***\n",
       "gender             4.2708     2.4298   1.758 0.082026 .  \n",
       "race_ethnicity     2.2714     1.0971   2.070 0.041126 *  \n",
       "parent_edu         0.6414     0.8971   0.715 0.476395    \n",
       "lunch             13.3386     2.5895   5.151  1.4e-06 ***\n",
       "test_prep_course   9.4896     2.7269   3.480 0.000759 ***\n",
       "---\n",
       "Signif. codes:  0 ‘***’ 0.001 ‘**’ 0.01 ‘*’ 0.05 ‘.’ 0.1 ‘ ’ 1\n",
       "\n",
       "Residual standard error: 12 on 95 degrees of freedom\n",
       "Multiple R-squared:  0.312,\tAdjusted R-squared:  0.2758 \n",
       "F-statistic: 8.617 on 5 and 95 DF,  p-value: 9.202e-07\n"
      ]
     },
     "metadata": {},
     "output_type": "display_data"
    }
   ],
   "source": [
    "lm_math <- lm(math_score ~ ., data = train2)\n",
    "summary(lm_math)"
   ]
  },
  {
   "cell_type": "markdown",
   "metadata": {},
   "source": [
    "#### Reading\n",
    "* Adj.R^2 = 0.2707\n",
    "* RSE = 13.23"
   ]
  },
  {
   "cell_type": "code",
   "execution_count": 22,
   "metadata": {
    "vscode": {
     "languageId": "r"
    }
   },
   "outputs": [
    {
     "name": "stdout",
     "output_type": "stream",
     "text": [
      "tibble [1,000 × 6] (S3: tbl_df/tbl/data.frame)\n",
      " $ gender          : num [1:1000] 1 0 1 1 1 0 0 1 1 1 ...\n",
      " $ race_ethnicity  : num [1:1000] 1 4 5 2 5 4 1 5 4 3 ...\n",
      " $ parent_edu      : num [1:1000] 2 1 3 2 4 2 5 3 2 3 ...\n",
      " $ lunch           : num [1:1000] 1 0 0 1 1 1 1 1 1 0 ...\n",
      " $ test_prep_course: num [1:1000] 1 0 0 0 1 0 0 1 0 0 ...\n",
      " $ read_score      : num [1:1000] 67 59 60 78 73 77 59 88 56 42 ...\n"
     ]
    }
   ],
   "source": [
    "df3 <- exams_clean[-c(6,8)]\n",
    "str(df3)\n",
    "train3 <- df3[c(750:850),]\n",
    "test3 <- df3[-c(750:850),] "
   ]
  },
  {
   "cell_type": "code",
   "execution_count": 23,
   "metadata": {
    "vscode": {
     "languageId": "r"
    }
   },
   "outputs": [
    {
     "data": {
      "text/plain": [
       "\n",
       "Call:\n",
       "lm(formula = read_score ~ ., data = train3)\n",
       "\n",
       "Residuals:\n",
       "    Min      1Q  Median      3Q     Max \n",
       "-30.190  -8.421   2.254   8.603  26.975 \n",
       "\n",
       "Coefficients:\n",
       "                 Estimate Std. Error t value Pr(>|t|)    \n",
       "(Intercept)       58.3096     5.4598  10.680  < 2e-16 ***\n",
       "gender            -7.3719     2.6537  -2.778  0.00659 ** \n",
       "race_ethnicity     0.1062     1.1738   0.090  0.92808    \n",
       "parent_edu         1.6748     0.8258   2.028  0.04536 *  \n",
       "lunch             11.6378     2.7836   4.181 6.46e-05 ***\n",
       "test_prep_course   8.3620     2.7752   3.013  0.00331 ** \n",
       "---\n",
       "Signif. codes:  0 ‘***’ 0.001 ‘**’ 0.01 ‘*’ 0.05 ‘.’ 0.1 ‘ ’ 1\n",
       "\n",
       "Residual standard error: 13.23 on 95 degrees of freedom\n",
       "Multiple R-squared:  0.3072,\tAdjusted R-squared:  0.2707 \n",
       "F-statistic: 8.423 on 5 and 95 DF,  p-value: 1.258e-06\n"
      ]
     },
     "metadata": {},
     "output_type": "display_data"
    }
   ],
   "source": [
    "lm_read <- lm(read_score ~ ., data = train3)\n",
    "summary(lm_read) "
   ]
  },
  {
   "cell_type": "markdown",
   "metadata": {},
   "source": [
    "#### Writing\n",
    "* Adj.Rsquared = 0.2527\n",
    "* RSE = 12.83"
   ]
  },
  {
   "cell_type": "code",
   "execution_count": 24,
   "metadata": {
    "vscode": {
     "languageId": "r"
    }
   },
   "outputs": [
    {
     "name": "stdout",
     "output_type": "stream",
     "text": [
      "tibble [1,000 × 6] (S3: tbl_df/tbl/data.frame)\n",
      " $ gender          : num [1:1000] 1 0 1 1 1 0 0 1 1 1 ...\n",
      " $ race_ethnicity  : num [1:1000] 1 4 5 2 5 4 1 5 4 3 ...\n",
      " $ parent_edu      : num [1:1000] 2 1 3 2 4 2 5 3 2 3 ...\n",
      " $ lunch           : num [1:1000] 1 0 0 1 1 1 1 1 1 0 ...\n",
      " $ test_prep_course: num [1:1000] 1 0 0 0 1 0 0 1 0 0 ...\n",
      " $ write_score     : num [1:1000] 63 55 50 68 68 76 63 84 65 45 ...\n"
     ]
    }
   ],
   "source": [
    "df4 <- exams_clean[-c(6,7)]\n",
    "str(df4)\n",
    "train4 <- df4[c(450:550),]\n",
    "test4 <- df4[-c(450:550),] "
   ]
  },
  {
   "cell_type": "code",
   "execution_count": 25,
   "metadata": {
    "vscode": {
     "languageId": "r"
    }
   },
   "outputs": [
    {
     "data": {
      "text/plain": [
       "\n",
       "Call:\n",
       "lm(formula = write_score ~ ., data = train4)\n",
       "\n",
       "Residuals:\n",
       "     Min       1Q   Median       3Q      Max \n",
       "-28.0077  -8.3453  -0.8761   9.1602  24.4950 \n",
       "\n",
       "Coefficients:\n",
       "                 Estimate Std. Error t value Pr(>|t|)    \n",
       "(Intercept)       48.6310     5.6873   8.551 2.05e-13 ***\n",
       "gender            -9.1723     2.6379  -3.477 0.000766 ***\n",
       "race_ethnicity     2.1078     1.2346   1.707 0.091031 .  \n",
       "parent_edu         3.1611     0.8547   3.698 0.000363 ***\n",
       "lunch              8.8644     2.6521   3.342 0.001189 ** \n",
       "test_prep_course   7.4776     2.8012   2.669 0.008936 ** \n",
       "---\n",
       "Signif. codes:  0 ‘***’ 0.001 ‘**’ 0.01 ‘*’ 0.05 ‘.’ 0.1 ‘ ’ 1\n",
       "\n",
       "Residual standard error: 12.83 on 95 degrees of freedom\n",
       "Multiple R-squared:  0.2901,\tAdjusted R-squared:  0.2527 \n",
       "F-statistic: 7.763 on 5 and 95 DF,  p-value: 3.691e-06\n"
      ]
     },
     "metadata": {},
     "output_type": "display_data"
    }
   ],
   "source": [
    "lm_write <- lm(write_score ~ ., data = train4)\n",
    "summary(lm_write)"
   ]
  },
  {
   "cell_type": "markdown",
   "metadata": {},
   "source": [
    "## Cross-Validation Model"
   ]
  },
  {
   "cell_type": "code",
   "execution_count": 28,
   "metadata": {
    "vscode": {
     "languageId": "r"
    }
   },
   "outputs": [
    {
     "data": {
      "text/plain": [
       "\n",
       "Call:\n",
       "lm(formula = cum_score ~ ., data = train)\n",
       "\n",
       "Residuals:\n",
       "     Min       1Q   Median       3Q      Max \n",
       "-112.829  -25.130    0.927   27.612   87.419 \n",
       "\n",
       "Coefficients:\n",
       "                 Estimate Std. Error t value Pr(>|t|)    \n",
       "(Intercept)      130.0876     5.0859  25.578  < 2e-16 ***\n",
       "gender            -7.1504     2.4891  -2.873  0.00417 ** \n",
       "race_ethnicity     8.0240     1.0968   7.316  5.7e-13 ***\n",
       "parent_edu         7.8898     0.8251   9.562  < 2e-16 ***\n",
       "lunch             30.5793     2.6059  11.735  < 2e-16 ***\n",
       "test_prep_course  21.6074     2.6180   8.253  5.5e-16 ***\n",
       "---\n",
       "Signif. codes:  0 ‘***’ 0.001 ‘**’ 0.01 ‘*’ 0.05 ‘.’ 0.1 ‘ ’ 1\n",
       "\n",
       "Residual standard error: 37.17 on 893 degrees of freedom\n",
       "Multiple R-squared:  0.2871,\tAdjusted R-squared:  0.2831 \n",
       "F-statistic: 71.93 on 5 and 893 DF,  p-value: < 2.2e-16\n"
      ]
     },
     "metadata": {},
     "output_type": "display_data"
    }
   ],
   "source": [
    "# remember first model--\n",
    "summary(lm1)"
   ]
  },
  {
   "cell_type": "code",
   "execution_count": 52,
   "metadata": {
    "vscode": {
     "languageId": "r"
    }
   },
   "outputs": [
    {
     "name": "stdout",
     "output_type": "stream",
     "text": [
      "+ Fold001: intercept=TRUE \n",
      "- Fold001: intercept=TRUE \n",
      "+ Fold002: intercept=TRUE \n",
      "- Fold002: intercept=TRUE \n",
      "+ Fold003: intercept=TRUE \n",
      "- Fold003: intercept=TRUE \n",
      "+ Fold004: intercept=TRUE \n",
      "- Fold004: intercept=TRUE \n",
      "+ Fold005: intercept=TRUE \n",
      "- Fold005: intercept=TRUE \n",
      "+ Fold006: intercept=TRUE \n",
      "- Fold006: intercept=TRUE \n",
      "+ Fold007: intercept=TRUE \n",
      "- Fold007: intercept=TRUE \n",
      "+ Fold008: intercept=TRUE \n",
      "- Fold008: intercept=TRUE \n",
      "+ Fold009: intercept=TRUE \n",
      "- Fold009: intercept=TRUE \n",
      "+ Fold010: intercept=TRUE \n",
      "- Fold010: intercept=TRUE \n",
      "+ Fold011: intercept=TRUE \n",
      "- Fold011: intercept=TRUE \n",
      "+ Fold012: intercept=TRUE \n",
      "- Fold012: intercept=TRUE \n",
      "+ Fold013: intercept=TRUE \n",
      "- Fold013: intercept=TRUE \n",
      "+ Fold014: intercept=TRUE \n",
      "- Fold014: intercept=TRUE \n",
      "+ Fold015: intercept=TRUE \n",
      "- Fold015: intercept=TRUE \n",
      "+ Fold016: intercept=TRUE \n",
      "- Fold016: intercept=TRUE \n",
      "+ Fold017: intercept=TRUE \n",
      "- Fold017: intercept=TRUE \n",
      "+ Fold018: intercept=TRUE \n",
      "- Fold018: intercept=TRUE \n",
      "+ Fold019: intercept=TRUE \n",
      "- Fold019: intercept=TRUE \n",
      "+ Fold020: intercept=TRUE \n",
      "- Fold020: intercept=TRUE \n",
      "+ Fold021: intercept=TRUE \n",
      "- Fold021: intercept=TRUE \n",
      "+ Fold022: intercept=TRUE \n",
      "- Fold022: intercept=TRUE \n",
      "+ Fold023: intercept=TRUE \n",
      "- Fold023: intercept=TRUE \n",
      "+ Fold024: intercept=TRUE \n",
      "- Fold024: intercept=TRUE \n",
      "+ Fold025: intercept=TRUE \n",
      "- Fold025: intercept=TRUE \n",
      "+ Fold026: intercept=TRUE \n",
      "- Fold026: intercept=TRUE \n",
      "+ Fold027: intercept=TRUE \n",
      "- Fold027: intercept=TRUE \n",
      "+ Fold028: intercept=TRUE \n",
      "- Fold028: intercept=TRUE \n",
      "+ Fold029: intercept=TRUE \n",
      "- Fold029: intercept=TRUE \n",
      "+ Fold030: intercept=TRUE \n",
      "- Fold030: intercept=TRUE \n",
      "+ Fold031: intercept=TRUE \n",
      "- Fold031: intercept=TRUE \n",
      "+ Fold032: intercept=TRUE \n",
      "- Fold032: intercept=TRUE \n",
      "+ Fold033: intercept=TRUE \n",
      "- Fold033: intercept=TRUE \n",
      "+ Fold034: intercept=TRUE \n",
      "- Fold034: intercept=TRUE \n",
      "+ Fold035: intercept=TRUE \n",
      "- Fold035: intercept=TRUE \n",
      "+ Fold036: intercept=TRUE \n",
      "- Fold036: intercept=TRUE \n",
      "+ Fold037: intercept=TRUE \n",
      "- Fold037: intercept=TRUE \n",
      "+ Fold038: intercept=TRUE \n",
      "- Fold038: intercept=TRUE \n",
      "+ Fold039: intercept=TRUE \n",
      "- Fold039: intercept=TRUE \n",
      "+ Fold040: intercept=TRUE \n",
      "- Fold040: intercept=TRUE \n",
      "+ Fold041: intercept=TRUE \n",
      "- Fold041: intercept=TRUE \n",
      "+ Fold042: intercept=TRUE \n",
      "- Fold042: intercept=TRUE \n",
      "+ Fold043: intercept=TRUE \n",
      "- Fold043: intercept=TRUE \n",
      "+ Fold044: intercept=TRUE \n",
      "- Fold044: intercept=TRUE \n",
      "+ Fold045: intercept=TRUE \n",
      "- Fold045: intercept=TRUE \n",
      "+ Fold046: intercept=TRUE \n",
      "- Fold046: intercept=TRUE \n",
      "+ Fold047: intercept=TRUE \n",
      "- Fold047: intercept=TRUE \n",
      "+ Fold048: intercept=TRUE \n",
      "- Fold048: intercept=TRUE \n",
      "+ Fold049: intercept=TRUE \n",
      "- Fold049: intercept=TRUE \n",
      "+ Fold050: intercept=TRUE \n",
      "- Fold050: intercept=TRUE \n",
      "+ Fold051: intercept=TRUE \n",
      "- Fold051: intercept=TRUE \n",
      "+ Fold052: intercept=TRUE \n",
      "- Fold052: intercept=TRUE \n",
      "+ Fold053: intercept=TRUE \n",
      "- Fold053: intercept=TRUE \n",
      "+ Fold054: intercept=TRUE \n",
      "- Fold054: intercept=TRUE \n",
      "+ Fold055: intercept=TRUE \n",
      "- Fold055: intercept=TRUE \n",
      "+ Fold056: intercept=TRUE \n",
      "- Fold056: intercept=TRUE \n",
      "+ Fold057: intercept=TRUE \n",
      "- Fold057: intercept=TRUE \n",
      "+ Fold058: intercept=TRUE \n",
      "- Fold058: intercept=TRUE \n",
      "+ Fold059: intercept=TRUE \n",
      "- Fold059: intercept=TRUE \n",
      "+ Fold060: intercept=TRUE \n",
      "- Fold060: intercept=TRUE \n",
      "+ Fold061: intercept=TRUE \n",
      "- Fold061: intercept=TRUE \n",
      "+ Fold062: intercept=TRUE \n",
      "- Fold062: intercept=TRUE \n",
      "+ Fold063: intercept=TRUE \n",
      "- Fold063: intercept=TRUE \n",
      "+ Fold064: intercept=TRUE \n",
      "- Fold064: intercept=TRUE \n",
      "+ Fold065: intercept=TRUE \n",
      "- Fold065: intercept=TRUE \n",
      "+ Fold066: intercept=TRUE \n",
      "- Fold066: intercept=TRUE \n",
      "+ Fold067: intercept=TRUE \n",
      "- Fold067: intercept=TRUE \n",
      "+ Fold068: intercept=TRUE \n",
      "- Fold068: intercept=TRUE \n",
      "+ Fold069: intercept=TRUE \n",
      "- Fold069: intercept=TRUE \n",
      "+ Fold070: intercept=TRUE \n",
      "- Fold070: intercept=TRUE \n",
      "+ Fold071: intercept=TRUE \n",
      "- Fold071: intercept=TRUE \n",
      "+ Fold072: intercept=TRUE \n",
      "- Fold072: intercept=TRUE \n",
      "+ Fold073: intercept=TRUE \n",
      "- Fold073: intercept=TRUE \n",
      "+ Fold074: intercept=TRUE \n",
      "- Fold074: intercept=TRUE \n",
      "+ Fold075: intercept=TRUE \n",
      "- Fold075: intercept=TRUE \n",
      "+ Fold076: intercept=TRUE \n",
      "- Fold076: intercept=TRUE \n",
      "+ Fold077: intercept=TRUE \n",
      "- Fold077: intercept=TRUE \n",
      "+ Fold078: intercept=TRUE \n",
      "- Fold078: intercept=TRUE \n",
      "+ Fold079: intercept=TRUE \n",
      "- Fold079: intercept=TRUE \n",
      "+ Fold080: intercept=TRUE \n",
      "- Fold080: intercept=TRUE \n",
      "+ Fold081: intercept=TRUE \n",
      "- Fold081: intercept=TRUE \n",
      "+ Fold082: intercept=TRUE \n",
      "- Fold082: intercept=TRUE \n",
      "+ Fold083: intercept=TRUE \n",
      "- Fold083: intercept=TRUE \n",
      "+ Fold084: intercept=TRUE \n",
      "- Fold084: intercept=TRUE \n",
      "+ Fold085: intercept=TRUE \n",
      "- Fold085: intercept=TRUE \n",
      "+ Fold086: intercept=TRUE \n",
      "- Fold086: intercept=TRUE \n",
      "+ Fold087: intercept=TRUE \n",
      "- Fold087: intercept=TRUE \n",
      "+ Fold088: intercept=TRUE \n",
      "- Fold088: intercept=TRUE \n",
      "+ Fold089: intercept=TRUE \n",
      "- Fold089: intercept=TRUE \n",
      "+ Fold090: intercept=TRUE \n",
      "- Fold090: intercept=TRUE \n",
      "+ Fold091: intercept=TRUE \n",
      "- Fold091: intercept=TRUE \n",
      "+ Fold092: intercept=TRUE \n",
      "- Fold092: intercept=TRUE \n",
      "+ Fold093: intercept=TRUE \n",
      "- Fold093: intercept=TRUE \n",
      "+ Fold094: intercept=TRUE \n",
      "- Fold094: intercept=TRUE \n",
      "+ Fold095: intercept=TRUE \n",
      "- Fold095: intercept=TRUE \n",
      "+ Fold096: intercept=TRUE \n",
      "- Fold096: intercept=TRUE \n",
      "+ Fold097: intercept=TRUE \n",
      "- Fold097: intercept=TRUE \n",
      "+ Fold098: intercept=TRUE \n",
      "- Fold098: intercept=TRUE \n",
      "+ Fold099: intercept=TRUE \n",
      "- Fold099: intercept=TRUE \n",
      "+ Fold100: intercept=TRUE \n",
      "- Fold100: intercept=TRUE \n",
      "+ Fold101: intercept=TRUE \n",
      "- Fold101: intercept=TRUE \n",
      "+ Fold102: intercept=TRUE \n",
      "- Fold102: intercept=TRUE \n",
      "+ Fold103: intercept=TRUE \n",
      "- Fold103: intercept=TRUE \n",
      "+ Fold104: intercept=TRUE \n",
      "- Fold104: intercept=TRUE \n",
      "+ Fold105: intercept=TRUE \n",
      "- Fold105: intercept=TRUE \n",
      "+ Fold106: intercept=TRUE \n",
      "- Fold106: intercept=TRUE \n",
      "+ Fold107: intercept=TRUE \n",
      "- Fold107: intercept=TRUE \n",
      "+ Fold108: intercept=TRUE \n",
      "- Fold108: intercept=TRUE \n",
      "+ Fold109: intercept=TRUE \n",
      "- Fold109: intercept=TRUE \n",
      "+ Fold110: intercept=TRUE \n",
      "- Fold110: intercept=TRUE \n",
      "+ Fold111: intercept=TRUE \n",
      "- Fold111: intercept=TRUE \n",
      "+ Fold112: intercept=TRUE \n",
      "- Fold112: intercept=TRUE \n",
      "+ Fold113: intercept=TRUE \n",
      "- Fold113: intercept=TRUE \n",
      "+ Fold114: intercept=TRUE \n",
      "- Fold114: intercept=TRUE \n",
      "+ Fold115: intercept=TRUE \n",
      "- Fold115: intercept=TRUE \n",
      "+ Fold116: intercept=TRUE \n",
      "- Fold116: intercept=TRUE \n",
      "+ Fold117: intercept=TRUE \n",
      "- Fold117: intercept=TRUE \n",
      "+ Fold118: intercept=TRUE \n",
      "- Fold118: intercept=TRUE \n",
      "+ Fold119: intercept=TRUE \n",
      "- Fold119: intercept=TRUE \n",
      "+ Fold120: intercept=TRUE \n",
      "- Fold120: intercept=TRUE \n",
      "+ Fold121: intercept=TRUE \n",
      "- Fold121: intercept=TRUE \n",
      "+ Fold122: intercept=TRUE \n",
      "- Fold122: intercept=TRUE \n",
      "+ Fold123: intercept=TRUE \n",
      "- Fold123: intercept=TRUE \n",
      "+ Fold124: intercept=TRUE \n",
      "- Fold124: intercept=TRUE \n",
      "+ Fold125: intercept=TRUE \n",
      "- Fold125: intercept=TRUE \n",
      "+ Fold126: intercept=TRUE \n",
      "- Fold126: intercept=TRUE \n",
      "+ Fold127: intercept=TRUE \n",
      "- Fold127: intercept=TRUE \n",
      "+ Fold128: intercept=TRUE \n",
      "- Fold128: intercept=TRUE \n",
      "+ Fold129: intercept=TRUE \n",
      "- Fold129: intercept=TRUE \n",
      "+ Fold130: intercept=TRUE \n",
      "- Fold130: intercept=TRUE \n",
      "+ Fold131: intercept=TRUE \n",
      "- Fold131: intercept=TRUE \n",
      "+ Fold132: intercept=TRUE \n",
      "- Fold132: intercept=TRUE \n",
      "+ Fold133: intercept=TRUE \n",
      "- Fold133: intercept=TRUE \n",
      "+ Fold134: intercept=TRUE \n",
      "- Fold134: intercept=TRUE \n",
      "+ Fold135: intercept=TRUE \n",
      "- Fold135: intercept=TRUE \n",
      "+ Fold136: intercept=TRUE \n",
      "- Fold136: intercept=TRUE \n",
      "+ Fold137: intercept=TRUE \n",
      "- Fold137: intercept=TRUE \n",
      "+ Fold138: intercept=TRUE \n",
      "- Fold138: intercept=TRUE \n",
      "+ Fold139: intercept=TRUE \n",
      "- Fold139: intercept=TRUE \n",
      "+ Fold140: intercept=TRUE \n",
      "- Fold140: intercept=TRUE \n",
      "+ Fold141: intercept=TRUE \n",
      "- Fold141: intercept=TRUE \n",
      "+ Fold142: intercept=TRUE \n",
      "- Fold142: intercept=TRUE \n",
      "+ Fold143: intercept=TRUE \n",
      "- Fold143: intercept=TRUE \n",
      "+ Fold144: intercept=TRUE \n",
      "- Fold144: intercept=TRUE \n",
      "+ Fold145: intercept=TRUE \n",
      "- Fold145: intercept=TRUE \n",
      "+ Fold146: intercept=TRUE \n",
      "- Fold146: intercept=TRUE \n",
      "+ Fold147: intercept=TRUE \n",
      "- Fold147: intercept=TRUE \n",
      "+ Fold148: intercept=TRUE \n",
      "- Fold148: intercept=TRUE \n",
      "+ Fold149: intercept=TRUE \n",
      "- Fold149: intercept=TRUE \n",
      "+ Fold150: intercept=TRUE \n",
      "- Fold150: intercept=TRUE \n",
      "+ Fold151: intercept=TRUE \n",
      "- Fold151: intercept=TRUE \n",
      "+ Fold152: intercept=TRUE \n",
      "- Fold152: intercept=TRUE \n",
      "+ Fold153: intercept=TRUE \n",
      "- Fold153: intercept=TRUE \n",
      "+ Fold154: intercept=TRUE \n",
      "- Fold154: intercept=TRUE \n",
      "+ Fold155: intercept=TRUE \n",
      "- Fold155: intercept=TRUE \n",
      "+ Fold156: intercept=TRUE \n",
      "- Fold156: intercept=TRUE \n",
      "+ Fold157: intercept=TRUE \n",
      "- Fold157: intercept=TRUE \n",
      "+ Fold158: intercept=TRUE \n",
      "- Fold158: intercept=TRUE \n",
      "+ Fold159: intercept=TRUE \n",
      "- Fold159: intercept=TRUE \n",
      "+ Fold160: intercept=TRUE \n",
      "- Fold160: intercept=TRUE \n",
      "+ Fold161: intercept=TRUE \n",
      "- Fold161: intercept=TRUE \n",
      "+ Fold162: intercept=TRUE \n",
      "- Fold162: intercept=TRUE \n",
      "+ Fold163: intercept=TRUE \n",
      "- Fold163: intercept=TRUE \n",
      "+ Fold164: intercept=TRUE \n",
      "- Fold164: intercept=TRUE \n",
      "+ Fold165: intercept=TRUE \n",
      "- Fold165: intercept=TRUE \n",
      "+ Fold166: intercept=TRUE \n",
      "- Fold166: intercept=TRUE \n",
      "+ Fold167: intercept=TRUE \n",
      "- Fold167: intercept=TRUE \n",
      "+ Fold168: intercept=TRUE \n",
      "- Fold168: intercept=TRUE \n",
      "+ Fold169: intercept=TRUE \n",
      "- Fold169: intercept=TRUE \n",
      "+ Fold170: intercept=TRUE \n",
      "- Fold170: intercept=TRUE \n",
      "+ Fold171: intercept=TRUE \n",
      "- Fold171: intercept=TRUE \n",
      "+ Fold172: intercept=TRUE \n",
      "- Fold172: intercept=TRUE \n",
      "+ Fold173: intercept=TRUE \n",
      "- Fold173: intercept=TRUE \n",
      "+ Fold174: intercept=TRUE \n",
      "- Fold174: intercept=TRUE \n",
      "+ Fold175: intercept=TRUE \n",
      "- Fold175: intercept=TRUE \n",
      "+ Fold176: intercept=TRUE \n",
      "- Fold176: intercept=TRUE \n",
      "+ Fold177: intercept=TRUE \n",
      "- Fold177: intercept=TRUE \n",
      "+ Fold178: intercept=TRUE \n",
      "- Fold178: intercept=TRUE \n",
      "+ Fold179: intercept=TRUE \n",
      "- Fold179: intercept=TRUE \n",
      "+ Fold180: intercept=TRUE \n",
      "- Fold180: intercept=TRUE \n",
      "+ Fold181: intercept=TRUE \n",
      "- Fold181: intercept=TRUE \n",
      "+ Fold182: intercept=TRUE \n",
      "- Fold182: intercept=TRUE \n",
      "+ Fold183: intercept=TRUE \n",
      "- Fold183: intercept=TRUE \n",
      "+ Fold184: intercept=TRUE \n",
      "- Fold184: intercept=TRUE \n",
      "+ Fold185: intercept=TRUE \n",
      "- Fold185: intercept=TRUE \n",
      "+ Fold186: intercept=TRUE \n",
      "- Fold186: intercept=TRUE \n",
      "+ Fold187: intercept=TRUE \n",
      "- Fold187: intercept=TRUE \n",
      "+ Fold188: intercept=TRUE \n",
      "- Fold188: intercept=TRUE \n",
      "+ Fold189: intercept=TRUE \n",
      "- Fold189: intercept=TRUE \n",
      "+ Fold190: intercept=TRUE \n",
      "- Fold190: intercept=TRUE \n",
      "+ Fold191: intercept=TRUE \n",
      "- Fold191: intercept=TRUE \n",
      "+ Fold192: intercept=TRUE \n",
      "- Fold192: intercept=TRUE \n",
      "+ Fold193: intercept=TRUE \n",
      "- Fold193: intercept=TRUE \n",
      "+ Fold194: intercept=TRUE \n",
      "- Fold194: intercept=TRUE \n",
      "+ Fold195: intercept=TRUE \n",
      "- Fold195: intercept=TRUE \n",
      "+ Fold196: intercept=TRUE \n",
      "- Fold196: intercept=TRUE \n",
      "+ Fold197: intercept=TRUE \n",
      "- Fold197: intercept=TRUE \n",
      "+ Fold198: intercept=TRUE \n",
      "- Fold198: intercept=TRUE \n",
      "+ Fold199: intercept=TRUE \n",
      "- Fold199: intercept=TRUE \n",
      "+ Fold200: intercept=TRUE \n",
      "- Fold200: intercept=TRUE \n",
      "+ Fold201: intercept=TRUE \n",
      "- Fold201: intercept=TRUE \n",
      "+ Fold202: intercept=TRUE \n",
      "- Fold202: intercept=TRUE \n",
      "+ Fold203: intercept=TRUE \n",
      "- Fold203: intercept=TRUE \n",
      "+ Fold204: intercept=TRUE \n",
      "- Fold204: intercept=TRUE \n",
      "+ Fold205: intercept=TRUE \n",
      "- Fold205: intercept=TRUE \n",
      "+ Fold206: intercept=TRUE \n",
      "- Fold206: intercept=TRUE \n",
      "+ Fold207: intercept=TRUE \n",
      "- Fold207: intercept=TRUE \n",
      "+ Fold208: intercept=TRUE \n",
      "- Fold208: intercept=TRUE \n",
      "+ Fold209: intercept=TRUE \n",
      "- Fold209: intercept=TRUE \n",
      "+ Fold210: intercept=TRUE \n",
      "- Fold210: intercept=TRUE \n",
      "+ Fold211: intercept=TRUE \n",
      "- Fold211: intercept=TRUE \n",
      "+ Fold212: intercept=TRUE \n",
      "- Fold212: intercept=TRUE \n",
      "+ Fold213: intercept=TRUE \n",
      "- Fold213: intercept=TRUE \n",
      "+ Fold214: intercept=TRUE \n",
      "- Fold214: intercept=TRUE \n",
      "+ Fold215: intercept=TRUE \n",
      "- Fold215: intercept=TRUE \n",
      "+ Fold216: intercept=TRUE \n",
      "- Fold216: intercept=TRUE \n",
      "+ Fold217: intercept=TRUE \n",
      "- Fold217: intercept=TRUE \n",
      "+ Fold218: intercept=TRUE \n",
      "- Fold218: intercept=TRUE \n",
      "+ Fold219: intercept=TRUE \n",
      "- Fold219: intercept=TRUE \n",
      "+ Fold220: intercept=TRUE \n",
      "- Fold220: intercept=TRUE \n",
      "+ Fold221: intercept=TRUE \n",
      "- Fold221: intercept=TRUE \n",
      "+ Fold222: intercept=TRUE \n",
      "- Fold222: intercept=TRUE \n",
      "+ Fold223: intercept=TRUE \n",
      "- Fold223: intercept=TRUE \n",
      "+ Fold224: intercept=TRUE \n",
      "- Fold224: intercept=TRUE \n",
      "+ Fold225: intercept=TRUE \n",
      "- Fold225: intercept=TRUE \n",
      "+ Fold226: intercept=TRUE \n",
      "- Fold226: intercept=TRUE \n",
      "+ Fold227: intercept=TRUE \n",
      "- Fold227: intercept=TRUE \n",
      "+ Fold228: intercept=TRUE \n",
      "- Fold228: intercept=TRUE \n",
      "+ Fold229: intercept=TRUE \n",
      "- Fold229: intercept=TRUE \n",
      "+ Fold230: intercept=TRUE \n",
      "- Fold230: intercept=TRUE \n",
      "+ Fold231: intercept=TRUE \n",
      "- Fold231: intercept=TRUE \n",
      "+ Fold232: intercept=TRUE \n",
      "- Fold232: intercept=TRUE \n",
      "+ Fold233: intercept=TRUE \n",
      "- Fold233: intercept=TRUE \n",
      "+ Fold234: intercept=TRUE \n",
      "- Fold234: intercept=TRUE \n",
      "+ Fold235: intercept=TRUE \n",
      "- Fold235: intercept=TRUE \n",
      "+ Fold236: intercept=TRUE \n",
      "- Fold236: intercept=TRUE \n",
      "+ Fold237: intercept=TRUE \n",
      "- Fold237: intercept=TRUE \n",
      "+ Fold238: intercept=TRUE \n",
      "- Fold238: intercept=TRUE \n",
      "+ Fold239: intercept=TRUE \n",
      "- Fold239: intercept=TRUE \n",
      "+ Fold240: intercept=TRUE \n",
      "- Fold240: intercept=TRUE \n",
      "+ Fold241: intercept=TRUE \n",
      "- Fold241: intercept=TRUE \n",
      "+ Fold242: intercept=TRUE \n",
      "- Fold242: intercept=TRUE \n",
      "+ Fold243: intercept=TRUE \n",
      "- Fold243: intercept=TRUE \n",
      "+ Fold244: intercept=TRUE \n",
      "- Fold244: intercept=TRUE \n",
      "+ Fold245: intercept=TRUE \n",
      "- Fold245: intercept=TRUE \n",
      "+ Fold246: intercept=TRUE \n",
      "- Fold246: intercept=TRUE \n",
      "+ Fold247: intercept=TRUE \n",
      "- Fold247: intercept=TRUE \n",
      "+ Fold248: intercept=TRUE \n",
      "- Fold248: intercept=TRUE \n",
      "+ Fold249: intercept=TRUE \n",
      "- Fold249: intercept=TRUE \n",
      "+ Fold250: intercept=TRUE \n",
      "- Fold250: intercept=TRUE \n",
      "+ Fold251: intercept=TRUE \n",
      "- Fold251: intercept=TRUE \n",
      "+ Fold252: intercept=TRUE \n",
      "- Fold252: intercept=TRUE \n",
      "+ Fold253: intercept=TRUE \n",
      "- Fold253: intercept=TRUE \n",
      "+ Fold254: intercept=TRUE \n",
      "- Fold254: intercept=TRUE \n",
      "+ Fold255: intercept=TRUE \n",
      "- Fold255: intercept=TRUE \n",
      "+ Fold256: intercept=TRUE \n",
      "- Fold256: intercept=TRUE \n",
      "+ Fold257: intercept=TRUE \n",
      "- Fold257: intercept=TRUE \n",
      "+ Fold258: intercept=TRUE \n",
      "- Fold258: intercept=TRUE \n",
      "+ Fold259: intercept=TRUE \n",
      "- Fold259: intercept=TRUE \n",
      "+ Fold260: intercept=TRUE \n",
      "- Fold260: intercept=TRUE \n",
      "+ Fold261: intercept=TRUE \n",
      "- Fold261: intercept=TRUE \n",
      "+ Fold262: intercept=TRUE \n",
      "- Fold262: intercept=TRUE \n",
      "+ Fold263: intercept=TRUE \n",
      "- Fold263: intercept=TRUE \n",
      "+ Fold264: intercept=TRUE \n",
      "- Fold264: intercept=TRUE \n",
      "+ Fold265: intercept=TRUE \n",
      "- Fold265: intercept=TRUE \n",
      "+ Fold266: intercept=TRUE \n",
      "- Fold266: intercept=TRUE \n",
      "+ Fold267: intercept=TRUE \n",
      "- Fold267: intercept=TRUE \n",
      "+ Fold268: intercept=TRUE \n",
      "- Fold268: intercept=TRUE \n",
      "+ Fold269: intercept=TRUE \n",
      "- Fold269: intercept=TRUE \n",
      "+ Fold270: intercept=TRUE \n",
      "- Fold270: intercept=TRUE \n",
      "+ Fold271: intercept=TRUE \n",
      "- Fold271: intercept=TRUE \n",
      "+ Fold272: intercept=TRUE \n",
      "- Fold272: intercept=TRUE \n",
      "+ Fold273: intercept=TRUE \n",
      "- Fold273: intercept=TRUE \n",
      "+ Fold274: intercept=TRUE \n",
      "- Fold274: intercept=TRUE \n",
      "+ Fold275: intercept=TRUE \n",
      "- Fold275: intercept=TRUE \n",
      "+ Fold276: intercept=TRUE \n",
      "- Fold276: intercept=TRUE \n",
      "+ Fold277: intercept=TRUE \n",
      "- Fold277: intercept=TRUE \n",
      "+ Fold278: intercept=TRUE \n",
      "- Fold278: intercept=TRUE \n",
      "+ Fold279: intercept=TRUE \n",
      "- Fold279: intercept=TRUE \n",
      "+ Fold280: intercept=TRUE \n",
      "- Fold280: intercept=TRUE \n",
      "+ Fold281: intercept=TRUE \n",
      "- Fold281: intercept=TRUE \n",
      "+ Fold282: intercept=TRUE \n",
      "- Fold282: intercept=TRUE \n",
      "+ Fold283: intercept=TRUE \n",
      "- Fold283: intercept=TRUE \n",
      "+ Fold284: intercept=TRUE \n",
      "- Fold284: intercept=TRUE \n",
      "+ Fold285: intercept=TRUE \n",
      "- Fold285: intercept=TRUE \n",
      "+ Fold286: intercept=TRUE \n",
      "- Fold286: intercept=TRUE \n",
      "+ Fold287: intercept=TRUE \n",
      "- Fold287: intercept=TRUE \n",
      "+ Fold288: intercept=TRUE \n",
      "- Fold288: intercept=TRUE \n",
      "+ Fold289: intercept=TRUE \n",
      "- Fold289: intercept=TRUE \n",
      "+ Fold290: intercept=TRUE \n",
      "- Fold290: intercept=TRUE \n",
      "+ Fold291: intercept=TRUE \n",
      "- Fold291: intercept=TRUE \n",
      "+ Fold292: intercept=TRUE \n",
      "- Fold292: intercept=TRUE \n",
      "+ Fold293: intercept=TRUE \n",
      "- Fold293: intercept=TRUE \n",
      "+ Fold294: intercept=TRUE \n",
      "- Fold294: intercept=TRUE \n",
      "+ Fold295: intercept=TRUE \n",
      "- Fold295: intercept=TRUE \n",
      "+ Fold296: intercept=TRUE \n",
      "- Fold296: intercept=TRUE \n",
      "+ Fold297: intercept=TRUE \n",
      "- Fold297: intercept=TRUE \n",
      "+ Fold298: intercept=TRUE \n",
      "- Fold298: intercept=TRUE \n",
      "+ Fold299: intercept=TRUE \n",
      "- Fold299: intercept=TRUE \n",
      "+ Fold300: intercept=TRUE \n",
      "- Fold300: intercept=TRUE \n",
      "+ Fold301: intercept=TRUE \n",
      "- Fold301: intercept=TRUE \n",
      "+ Fold302: intercept=TRUE \n",
      "- Fold302: intercept=TRUE \n",
      "+ Fold303: intercept=TRUE \n",
      "- Fold303: intercept=TRUE \n",
      "+ Fold304: intercept=TRUE \n",
      "- Fold304: intercept=TRUE \n",
      "+ Fold305: intercept=TRUE \n",
      "- Fold305: intercept=TRUE \n",
      "+ Fold306: intercept=TRUE \n",
      "- Fold306: intercept=TRUE \n",
      "+ Fold307: intercept=TRUE \n",
      "- Fold307: intercept=TRUE \n",
      "+ Fold308: intercept=TRUE \n",
      "- Fold308: intercept=TRUE \n",
      "+ Fold309: intercept=TRUE \n",
      "- Fold309: intercept=TRUE \n",
      "+ Fold310: intercept=TRUE \n",
      "- Fold310: intercept=TRUE \n",
      "+ Fold311: intercept=TRUE \n",
      "- Fold311: intercept=TRUE \n",
      "+ Fold312: intercept=TRUE \n",
      "- Fold312: intercept=TRUE \n",
      "+ Fold313: intercept=TRUE \n",
      "- Fold313: intercept=TRUE \n",
      "+ Fold314: intercept=TRUE \n",
      "- Fold314: intercept=TRUE \n",
      "+ Fold315: intercept=TRUE \n",
      "- Fold315: intercept=TRUE \n",
      "+ Fold316: intercept=TRUE \n",
      "- Fold316: intercept=TRUE \n",
      "+ Fold317: intercept=TRUE \n",
      "- Fold317: intercept=TRUE \n",
      "+ Fold318: intercept=TRUE \n",
      "- Fold318: intercept=TRUE \n",
      "+ Fold319: intercept=TRUE \n",
      "- Fold319: intercept=TRUE \n",
      "+ Fold320: intercept=TRUE \n",
      "- Fold320: intercept=TRUE \n",
      "+ Fold321: intercept=TRUE \n",
      "- Fold321: intercept=TRUE \n",
      "+ Fold322: intercept=TRUE \n",
      "- Fold322: intercept=TRUE \n",
      "+ Fold323: intercept=TRUE \n",
      "- Fold323: intercept=TRUE \n",
      "+ Fold324: intercept=TRUE \n",
      "- Fold324: intercept=TRUE \n",
      "+ Fold325: intercept=TRUE \n",
      "- Fold325: intercept=TRUE \n",
      "+ Fold326: intercept=TRUE \n",
      "- Fold326: intercept=TRUE \n",
      "+ Fold327: intercept=TRUE \n",
      "- Fold327: intercept=TRUE \n",
      "+ Fold328: intercept=TRUE \n",
      "- Fold328: intercept=TRUE \n",
      "+ Fold329: intercept=TRUE \n",
      "- Fold329: intercept=TRUE \n",
      "+ Fold330: intercept=TRUE \n",
      "- Fold330: intercept=TRUE \n",
      "+ Fold331: intercept=TRUE \n",
      "- Fold331: intercept=TRUE \n",
      "+ Fold332: intercept=TRUE \n",
      "- Fold332: intercept=TRUE \n",
      "+ Fold333: intercept=TRUE \n",
      "- Fold333: intercept=TRUE \n",
      "+ Fold334: intercept=TRUE \n",
      "- Fold334: intercept=TRUE \n",
      "+ Fold335: intercept=TRUE \n",
      "- Fold335: intercept=TRUE \n",
      "+ Fold336: intercept=TRUE \n",
      "- Fold336: intercept=TRUE \n",
      "+ Fold337: intercept=TRUE \n",
      "- Fold337: intercept=TRUE \n",
      "+ Fold338: intercept=TRUE \n",
      "- Fold338: intercept=TRUE \n",
      "+ Fold339: intercept=TRUE \n",
      "- Fold339: intercept=TRUE \n",
      "+ Fold340: intercept=TRUE \n",
      "- Fold340: intercept=TRUE \n",
      "+ Fold341: intercept=TRUE \n",
      "- Fold341: intercept=TRUE \n",
      "+ Fold342: intercept=TRUE \n",
      "- Fold342: intercept=TRUE \n",
      "+ Fold343: intercept=TRUE \n",
      "- Fold343: intercept=TRUE \n",
      "+ Fold344: intercept=TRUE \n",
      "- Fold344: intercept=TRUE \n",
      "+ Fold345: intercept=TRUE \n",
      "- Fold345: intercept=TRUE \n",
      "+ Fold346: intercept=TRUE \n",
      "- Fold346: intercept=TRUE \n",
      "+ Fold347: intercept=TRUE \n",
      "- Fold347: intercept=TRUE \n",
      "+ Fold348: intercept=TRUE \n",
      "- Fold348: intercept=TRUE \n",
      "+ Fold349: intercept=TRUE \n",
      "- Fold349: intercept=TRUE \n",
      "+ Fold350: intercept=TRUE \n",
      "- Fold350: intercept=TRUE \n",
      "+ Fold351: intercept=TRUE \n",
      "- Fold351: intercept=TRUE \n",
      "+ Fold352: intercept=TRUE \n",
      "- Fold352: intercept=TRUE \n",
      "+ Fold353: intercept=TRUE \n",
      "- Fold353: intercept=TRUE \n",
      "+ Fold354: intercept=TRUE \n",
      "- Fold354: intercept=TRUE \n",
      "+ Fold355: intercept=TRUE \n",
      "- Fold355: intercept=TRUE \n",
      "+ Fold356: intercept=TRUE \n",
      "- Fold356: intercept=TRUE \n",
      "+ Fold357: intercept=TRUE \n",
      "- Fold357: intercept=TRUE \n",
      "+ Fold358: intercept=TRUE \n",
      "- Fold358: intercept=TRUE \n",
      "+ Fold359: intercept=TRUE \n",
      "- Fold359: intercept=TRUE \n",
      "+ Fold360: intercept=TRUE \n",
      "- Fold360: intercept=TRUE \n",
      "+ Fold361: intercept=TRUE \n",
      "- Fold361: intercept=TRUE \n",
      "+ Fold362: intercept=TRUE \n",
      "- Fold362: intercept=TRUE \n",
      "+ Fold363: intercept=TRUE \n",
      "- Fold363: intercept=TRUE \n",
      "+ Fold364: intercept=TRUE \n",
      "- Fold364: intercept=TRUE \n",
      "+ Fold365: intercept=TRUE \n",
      "- Fold365: intercept=TRUE \n",
      "+ Fold366: intercept=TRUE \n",
      "- Fold366: intercept=TRUE \n",
      "+ Fold367: intercept=TRUE \n",
      "- Fold367: intercept=TRUE \n",
      "+ Fold368: intercept=TRUE \n",
      "- Fold368: intercept=TRUE \n",
      "+ Fold369: intercept=TRUE \n",
      "- Fold369: intercept=TRUE \n",
      "+ Fold370: intercept=TRUE \n",
      "- Fold370: intercept=TRUE \n",
      "+ Fold371: intercept=TRUE \n",
      "- Fold371: intercept=TRUE \n",
      "+ Fold372: intercept=TRUE \n",
      "- Fold372: intercept=TRUE \n",
      "+ Fold373: intercept=TRUE \n",
      "- Fold373: intercept=TRUE \n",
      "+ Fold374: intercept=TRUE \n",
      "- Fold374: intercept=TRUE \n",
      "+ Fold375: intercept=TRUE \n",
      "- Fold375: intercept=TRUE \n",
      "+ Fold376: intercept=TRUE \n",
      "- Fold376: intercept=TRUE \n",
      "+ Fold377: intercept=TRUE \n",
      "- Fold377: intercept=TRUE \n",
      "+ Fold378: intercept=TRUE \n",
      "- Fold378: intercept=TRUE \n",
      "+ Fold379: intercept=TRUE \n",
      "- Fold379: intercept=TRUE \n",
      "+ Fold380: intercept=TRUE \n",
      "- Fold380: intercept=TRUE \n",
      "+ Fold381: intercept=TRUE \n",
      "- Fold381: intercept=TRUE \n",
      "+ Fold382: intercept=TRUE \n",
      "- Fold382: intercept=TRUE \n",
      "+ Fold383: intercept=TRUE \n",
      "- Fold383: intercept=TRUE \n",
      "+ Fold384: intercept=TRUE \n",
      "- Fold384: intercept=TRUE \n",
      "+ Fold385: intercept=TRUE \n",
      "- Fold385: intercept=TRUE \n",
      "+ Fold386: intercept=TRUE \n",
      "- Fold386: intercept=TRUE \n",
      "+ Fold387: intercept=TRUE \n",
      "- Fold387: intercept=TRUE \n",
      "+ Fold388: intercept=TRUE \n",
      "- Fold388: intercept=TRUE \n",
      "+ Fold389: intercept=TRUE \n",
      "- Fold389: intercept=TRUE \n",
      "+ Fold390: intercept=TRUE \n",
      "- Fold390: intercept=TRUE \n",
      "+ Fold391: intercept=TRUE \n",
      "- Fold391: intercept=TRUE \n",
      "+ Fold392: intercept=TRUE \n",
      "- Fold392: intercept=TRUE \n",
      "+ Fold393: intercept=TRUE \n",
      "- Fold393: intercept=TRUE \n",
      "+ Fold394: intercept=TRUE \n",
      "- Fold394: intercept=TRUE \n",
      "+ Fold395: intercept=TRUE \n",
      "- Fold395: intercept=TRUE \n",
      "+ Fold396: intercept=TRUE \n",
      "- Fold396: intercept=TRUE \n",
      "+ Fold397: intercept=TRUE \n",
      "- Fold397: intercept=TRUE \n",
      "+ Fold398: intercept=TRUE \n",
      "- Fold398: intercept=TRUE \n",
      "+ Fold399: intercept=TRUE \n",
      "- Fold399: intercept=TRUE \n",
      "+ Fold400: intercept=TRUE \n",
      "- Fold400: intercept=TRUE \n",
      "+ Fold401: intercept=TRUE \n",
      "- Fold401: intercept=TRUE \n",
      "+ Fold402: intercept=TRUE \n",
      "- Fold402: intercept=TRUE \n",
      "+ Fold403: intercept=TRUE \n",
      "- Fold403: intercept=TRUE \n",
      "+ Fold404: intercept=TRUE \n",
      "- Fold404: intercept=TRUE \n",
      "+ Fold405: intercept=TRUE \n",
      "- Fold405: intercept=TRUE \n",
      "+ Fold406: intercept=TRUE \n",
      "- Fold406: intercept=TRUE \n",
      "+ Fold407: intercept=TRUE \n",
      "- Fold407: intercept=TRUE \n",
      "+ Fold408: intercept=TRUE \n",
      "- Fold408: intercept=TRUE \n",
      "+ Fold409: intercept=TRUE \n",
      "- Fold409: intercept=TRUE \n",
      "+ Fold410: intercept=TRUE \n",
      "- Fold410: intercept=TRUE \n",
      "+ Fold411: intercept=TRUE \n",
      "- Fold411: intercept=TRUE \n",
      "+ Fold412: intercept=TRUE \n",
      "- Fold412: intercept=TRUE \n",
      "+ Fold413: intercept=TRUE \n",
      "- Fold413: intercept=TRUE \n",
      "+ Fold414: intercept=TRUE \n",
      "- Fold414: intercept=TRUE \n",
      "+ Fold415: intercept=TRUE \n",
      "- Fold415: intercept=TRUE \n",
      "+ Fold416: intercept=TRUE \n",
      "- Fold416: intercept=TRUE \n",
      "+ Fold417: intercept=TRUE \n",
      "- Fold417: intercept=TRUE \n",
      "+ Fold418: intercept=TRUE \n",
      "- Fold418: intercept=TRUE \n",
      "+ Fold419: intercept=TRUE \n",
      "- Fold419: intercept=TRUE \n",
      "+ Fold420: intercept=TRUE \n",
      "- Fold420: intercept=TRUE \n",
      "+ Fold421: intercept=TRUE \n",
      "- Fold421: intercept=TRUE \n",
      "+ Fold422: intercept=TRUE \n",
      "- Fold422: intercept=TRUE \n",
      "+ Fold423: intercept=TRUE \n",
      "- Fold423: intercept=TRUE \n",
      "+ Fold424: intercept=TRUE \n",
      "- Fold424: intercept=TRUE \n",
      "+ Fold425: intercept=TRUE \n",
      "- Fold425: intercept=TRUE \n",
      "+ Fold426: intercept=TRUE \n",
      "- Fold426: intercept=TRUE \n",
      "+ Fold427: intercept=TRUE \n",
      "- Fold427: intercept=TRUE \n",
      "+ Fold428: intercept=TRUE \n",
      "- Fold428: intercept=TRUE \n",
      "+ Fold429: intercept=TRUE \n",
      "- Fold429: intercept=TRUE \n",
      "+ Fold430: intercept=TRUE \n",
      "- Fold430: intercept=TRUE \n",
      "+ Fold431: intercept=TRUE \n",
      "- Fold431: intercept=TRUE \n",
      "+ Fold432: intercept=TRUE \n",
      "- Fold432: intercept=TRUE \n",
      "+ Fold433: intercept=TRUE \n",
      "- Fold433: intercept=TRUE \n",
      "+ Fold434: intercept=TRUE \n",
      "- Fold434: intercept=TRUE \n",
      "+ Fold435: intercept=TRUE \n",
      "- Fold435: intercept=TRUE \n",
      "+ Fold436: intercept=TRUE \n",
      "- Fold436: intercept=TRUE \n",
      "+ Fold437: intercept=TRUE \n",
      "- Fold437: intercept=TRUE \n",
      "+ Fold438: intercept=TRUE \n",
      "- Fold438: intercept=TRUE \n",
      "+ Fold439: intercept=TRUE \n",
      "- Fold439: intercept=TRUE \n",
      "+ Fold440: intercept=TRUE \n",
      "- Fold440: intercept=TRUE \n",
      "+ Fold441: intercept=TRUE \n",
      "- Fold441: intercept=TRUE \n",
      "+ Fold442: intercept=TRUE \n",
      "- Fold442: intercept=TRUE \n",
      "+ Fold443: intercept=TRUE \n",
      "- Fold443: intercept=TRUE \n",
      "+ Fold444: intercept=TRUE \n",
      "- Fold444: intercept=TRUE \n",
      "+ Fold445: intercept=TRUE \n",
      "- Fold445: intercept=TRUE \n",
      "+ Fold446: intercept=TRUE \n",
      "- Fold446: intercept=TRUE \n",
      "+ Fold447: intercept=TRUE \n",
      "- Fold447: intercept=TRUE \n",
      "+ Fold448: intercept=TRUE \n",
      "- Fold448: intercept=TRUE \n",
      "+ Fold449: intercept=TRUE \n",
      "- Fold449: intercept=TRUE \n",
      "+ Fold450: intercept=TRUE \n",
      "- Fold450: intercept=TRUE \n"
     ]
    },
    {
     "name": "stderr",
     "output_type": "stream",
     "text": [
      "Warning message in nominalTrainWorkflow(x = x, y = y, wts = weights, info = trainInfo, :\n",
      "“There were missing values in resampled performance measures.”\n"
     ]
    },
    {
     "name": "stdout",
     "output_type": "stream",
     "text": [
      "Aggregating results\n",
      "Fitting final model on full training set\n"
     ]
    }
   ],
   "source": [
    "library(caret)\n",
    "set.seed(5698)\n",
    "model_cv <- train(\n",
    "    cum_score ~ ., df1,\n",
    "    method = \"lm\",\n",
    "    trControl = trainControl(\n",
    "        method = \"cv\",\n",
    "        number = 450,\n",
    "        verboseIter = TRUE\n",
    "    )\n",
    ")"
   ]
  },
  {
   "cell_type": "code",
   "execution_count": 53,
   "metadata": {
    "vscode": {
     "languageId": "r"
    }
   },
   "outputs": [
    {
     "data": {
      "text/plain": [
       "Linear Regression \n",
       "\n",
       "1000 samples\n",
       "   5 predictor\n",
       "\n",
       "No pre-processing\n",
       "Resampling: Cross-Validated (450 fold) \n",
       "Summary of sample sizes: 998, 998, 998, 998, 997, 998, ... \n",
       "Resampling results:\n",
       "\n",
       "  RMSE      Rsquared   MAE     \n",
       "  33.64692  0.9105358  30.34098\n",
       "\n",
       "Tuning parameter 'intercept' was held constant at a value of TRUE"
      ]
     },
     "metadata": {},
     "output_type": "display_data"
    }
   ],
   "source": [
    "model_cv"
   ]
  },
  {
   "cell_type": "code",
   "execution_count": 58,
   "metadata": {
    "vscode": {
     "languageId": "r"
    }
   },
   "outputs": [
    {
     "data": {
      "text/html": [
       "3.69482222595252e-13"
      ],
      "text/latex": [
       "3.69482222595252e-13"
      ],
      "text/markdown": [
       "3.69482222595252e-13"
      ],
      "text/plain": [
       "[1] 3.694822e-13"
      ]
     },
     "metadata": {},
     "output_type": "display_data"
    }
   ],
   "source": [
    "\n",
    "df1$pred <- predict(model_cv, df1) \n",
    "(mean(df1$cum_score) - mean(df1$pred))"
   ]
  },
  {
   "cell_type": "code",
   "execution_count": 60,
   "metadata": {
    "vscode": {
     "languageId": "r"
    }
   },
   "outputs": [
    {
     "data": {
      "text/html": [
       "<table class=\"dataframe\">\n",
       "<caption>A tibble: 1000 × 2</caption>\n",
       "<thead>\n",
       "\t<tr><th scope=col>cum_score</th><th scope=col>pred</th></tr>\n",
       "\t<tr><th scope=col>&lt;dbl&gt;</th><th scope=col>&lt;dbl&gt;</th></tr>\n",
       "</thead>\n",
       "<tbody>\n",
       "\t<tr><td>197</td><td>199.9521</td></tr>\n",
       "\t<tr><td>154</td><td>170.8513</td></tr>\n",
       "\t<tr><td>169</td><td>186.0275</td></tr>\n",
       "\t<tr><td>223</td><td>185.4687</td></tr>\n",
       "\t<tr><td>219</td><td>246.7440</td></tr>\n",
       "\t<tr><td>216</td><td>209.1311</td></tr>\n",
       "\t<tr><td>184</td><td>207.7391</td></tr>\n",
       "\t<tr><td>265</td><td>239.2547</td></tr>\n",
       "\t<tr><td>184</td><td>201.3754</td></tr>\n",
       "\t<tr><td>134</td><td>170.1209</td></tr>\n",
       "\t<tr><td>267</td><td>239.2547</td></tr>\n",
       "\t<tr><td>257</td><td>231.5678</td></tr>\n",
       "\t<tr><td>249</td><td>238.7907</td></tr>\n",
       "\t<tr><td>221</td><td>215.8587</td></tr>\n",
       "\t<tr><td>253</td><td>224.2761</td></tr>\n",
       "\t<tr><td>187</td><td>193.5168</td></tr>\n",
       "\t<tr><td>147</td><td>185.4687</td></tr>\n",
       "\t<tr><td>181</td><td>238.5931</td></tr>\n",
       "\t<tr><td>111</td><td>185.3659</td></tr>\n",
       "\t<tr><td>102</td><td>170.1209</td></tr>\n",
       "\t<tr><td>247</td><td>216.1564</td></tr>\n",
       "\t<tr><td>165</td><td>208.4006</td></tr>\n",
       "\t<tr><td>213</td><td>215.3947</td></tr>\n",
       "\t<tr><td>153</td><td>169.9233</td></tr>\n",
       "\t<tr><td>116</td><td>171.0489</td></tr>\n",
       "\t<tr><td>138</td><td>162.6316</td></tr>\n",
       "\t<tr><td>169</td><td>193.6885</td></tr>\n",
       "\t<tr><td>199</td><td>209.3287</td></tr>\n",
       "\t<tr><td>252</td><td>215.6612</td></tr>\n",
       "\t<tr><td>138</td><td>146.9914</td></tr>\n",
       "\t<tr><td>⋮</td><td>⋮</td></tr>\n",
       "\t<tr><td>282</td><td>224.0785</td></tr>\n",
       "\t<tr><td>159</td><td>185.9327</td></tr>\n",
       "\t<tr><td>232</td><td>232.0630</td></tr>\n",
       "\t<tr><td>216</td><td>208.4006</td></tr>\n",
       "\t<tr><td>176</td><td>185.7352</td></tr>\n",
       "\t<tr><td>220</td><td>208.4006</td></tr>\n",
       "\t<tr><td> 95</td><td>192.3600</td></tr>\n",
       "\t<tr><td>174</td><td>185.3347</td></tr>\n",
       "\t<tr><td>147</td><td>162.6316</td></tr>\n",
       "\t<tr><td>190</td><td>207.3386</td></tr>\n",
       "\t<tr><td>138</td><td>162.8980</td></tr>\n",
       "\t<tr><td>160</td><td>200.9113</td></tr>\n",
       "\t<tr><td>220</td><td>215.0255</td></tr>\n",
       "\t<tr><td>155</td><td>170.0261</td></tr>\n",
       "\t<tr><td>209</td><td>209.1311</td></tr>\n",
       "\t<tr><td>214</td><td>224.3073</td></tr>\n",
       "\t<tr><td>239</td><td>186.0275</td></tr>\n",
       "\t<tr><td>230</td><td>207.4414</td></tr>\n",
       "\t<tr><td>232</td><td>200.7138</td></tr>\n",
       "\t<tr><td>195</td><td>231.3014</td></tr>\n",
       "\t<tr><td>175</td><td>208.8647</td></tr>\n",
       "\t<tr><td>268</td><td>216.1564</td></tr>\n",
       "\t<tr><td>198</td><td>200.9113</td></tr>\n",
       "\t<tr><td>170</td><td>200.2498</td></tr>\n",
       "\t<tr><td>243</td><td>200.9749</td></tr>\n",
       "\t<tr><td>208</td><td>193.4220</td></tr>\n",
       "\t<tr><td>268</td><td>208.0002</td></tr>\n",
       "\t<tr><td>108</td><td>162.8980</td></tr>\n",
       "\t<tr><td>229</td><td>208.6671</td></tr>\n",
       "\t<tr><td>187</td><td>207.4414</td></tr>\n",
       "</tbody>\n",
       "</table>\n"
      ],
      "text/latex": [
       "A tibble: 1000 × 2\n",
       "\\begin{tabular}{ll}\n",
       " cum\\_score & pred\\\\\n",
       " <dbl> & <dbl>\\\\\n",
       "\\hline\n",
       "\t 197 & 199.9521\\\\\n",
       "\t 154 & 170.8513\\\\\n",
       "\t 169 & 186.0275\\\\\n",
       "\t 223 & 185.4687\\\\\n",
       "\t 219 & 246.7440\\\\\n",
       "\t 216 & 209.1311\\\\\n",
       "\t 184 & 207.7391\\\\\n",
       "\t 265 & 239.2547\\\\\n",
       "\t 184 & 201.3754\\\\\n",
       "\t 134 & 170.1209\\\\\n",
       "\t 267 & 239.2547\\\\\n",
       "\t 257 & 231.5678\\\\\n",
       "\t 249 & 238.7907\\\\\n",
       "\t 221 & 215.8587\\\\\n",
       "\t 253 & 224.2761\\\\\n",
       "\t 187 & 193.5168\\\\\n",
       "\t 147 & 185.4687\\\\\n",
       "\t 181 & 238.5931\\\\\n",
       "\t 111 & 185.3659\\\\\n",
       "\t 102 & 170.1209\\\\\n",
       "\t 247 & 216.1564\\\\\n",
       "\t 165 & 208.4006\\\\\n",
       "\t 213 & 215.3947\\\\\n",
       "\t 153 & 169.9233\\\\\n",
       "\t 116 & 171.0489\\\\\n",
       "\t 138 & 162.6316\\\\\n",
       "\t 169 & 193.6885\\\\\n",
       "\t 199 & 209.3287\\\\\n",
       "\t 252 & 215.6612\\\\\n",
       "\t 138 & 146.9914\\\\\n",
       "\t ⋮ & ⋮\\\\\n",
       "\t 282 & 224.0785\\\\\n",
       "\t 159 & 185.9327\\\\\n",
       "\t 232 & 232.0630\\\\\n",
       "\t 216 & 208.4006\\\\\n",
       "\t 176 & 185.7352\\\\\n",
       "\t 220 & 208.4006\\\\\n",
       "\t  95 & 192.3600\\\\\n",
       "\t 174 & 185.3347\\\\\n",
       "\t 147 & 162.6316\\\\\n",
       "\t 190 & 207.3386\\\\\n",
       "\t 138 & 162.8980\\\\\n",
       "\t 160 & 200.9113\\\\\n",
       "\t 220 & 215.0255\\\\\n",
       "\t 155 & 170.0261\\\\\n",
       "\t 209 & 209.1311\\\\\n",
       "\t 214 & 224.3073\\\\\n",
       "\t 239 & 186.0275\\\\\n",
       "\t 230 & 207.4414\\\\\n",
       "\t 232 & 200.7138\\\\\n",
       "\t 195 & 231.3014\\\\\n",
       "\t 175 & 208.8647\\\\\n",
       "\t 268 & 216.1564\\\\\n",
       "\t 198 & 200.9113\\\\\n",
       "\t 170 & 200.2498\\\\\n",
       "\t 243 & 200.9749\\\\\n",
       "\t 208 & 193.4220\\\\\n",
       "\t 268 & 208.0002\\\\\n",
       "\t 108 & 162.8980\\\\\n",
       "\t 229 & 208.6671\\\\\n",
       "\t 187 & 207.4414\\\\\n",
       "\\end{tabular}\n"
      ],
      "text/markdown": [
       "\n",
       "A tibble: 1000 × 2\n",
       "\n",
       "| cum_score &lt;dbl&gt; | pred &lt;dbl&gt; |\n",
       "|---|---|\n",
       "| 197 | 199.9521 |\n",
       "| 154 | 170.8513 |\n",
       "| 169 | 186.0275 |\n",
       "| 223 | 185.4687 |\n",
       "| 219 | 246.7440 |\n",
       "| 216 | 209.1311 |\n",
       "| 184 | 207.7391 |\n",
       "| 265 | 239.2547 |\n",
       "| 184 | 201.3754 |\n",
       "| 134 | 170.1209 |\n",
       "| 267 | 239.2547 |\n",
       "| 257 | 231.5678 |\n",
       "| 249 | 238.7907 |\n",
       "| 221 | 215.8587 |\n",
       "| 253 | 224.2761 |\n",
       "| 187 | 193.5168 |\n",
       "| 147 | 185.4687 |\n",
       "| 181 | 238.5931 |\n",
       "| 111 | 185.3659 |\n",
       "| 102 | 170.1209 |\n",
       "| 247 | 216.1564 |\n",
       "| 165 | 208.4006 |\n",
       "| 213 | 215.3947 |\n",
       "| 153 | 169.9233 |\n",
       "| 116 | 171.0489 |\n",
       "| 138 | 162.6316 |\n",
       "| 169 | 193.6885 |\n",
       "| 199 | 209.3287 |\n",
       "| 252 | 215.6612 |\n",
       "| 138 | 146.9914 |\n",
       "| ⋮ | ⋮ |\n",
       "| 282 | 224.0785 |\n",
       "| 159 | 185.9327 |\n",
       "| 232 | 232.0630 |\n",
       "| 216 | 208.4006 |\n",
       "| 176 | 185.7352 |\n",
       "| 220 | 208.4006 |\n",
       "|  95 | 192.3600 |\n",
       "| 174 | 185.3347 |\n",
       "| 147 | 162.6316 |\n",
       "| 190 | 207.3386 |\n",
       "| 138 | 162.8980 |\n",
       "| 160 | 200.9113 |\n",
       "| 220 | 215.0255 |\n",
       "| 155 | 170.0261 |\n",
       "| 209 | 209.1311 |\n",
       "| 214 | 224.3073 |\n",
       "| 239 | 186.0275 |\n",
       "| 230 | 207.4414 |\n",
       "| 232 | 200.7138 |\n",
       "| 195 | 231.3014 |\n",
       "| 175 | 208.8647 |\n",
       "| 268 | 216.1564 |\n",
       "| 198 | 200.9113 |\n",
       "| 170 | 200.2498 |\n",
       "| 243 | 200.9749 |\n",
       "| 208 | 193.4220 |\n",
       "| 268 | 208.0002 |\n",
       "| 108 | 162.8980 |\n",
       "| 229 | 208.6671 |\n",
       "| 187 | 207.4414 |\n",
       "\n"
      ],
      "text/plain": [
       "     cum_score pred    \n",
       "1    197       199.9521\n",
       "2    154       170.8513\n",
       "3    169       186.0275\n",
       "4    223       185.4687\n",
       "5    219       246.7440\n",
       "6    216       209.1311\n",
       "7    184       207.7391\n",
       "8    265       239.2547\n",
       "9    184       201.3754\n",
       "10   134       170.1209\n",
       "11   267       239.2547\n",
       "12   257       231.5678\n",
       "13   249       238.7907\n",
       "14   221       215.8587\n",
       "15   253       224.2761\n",
       "16   187       193.5168\n",
       "17   147       185.4687\n",
       "18   181       238.5931\n",
       "19   111       185.3659\n",
       "20   102       170.1209\n",
       "21   247       216.1564\n",
       "22   165       208.4006\n",
       "23   213       215.3947\n",
       "24   153       169.9233\n",
       "25   116       171.0489\n",
       "26   138       162.6316\n",
       "27   169       193.6885\n",
       "28   199       209.3287\n",
       "29   252       215.6612\n",
       "30   138       146.9914\n",
       "⋮    ⋮         ⋮       \n",
       "971  282       224.0785\n",
       "972  159       185.9327\n",
       "973  232       232.0630\n",
       "974  216       208.4006\n",
       "975  176       185.7352\n",
       "976  220       208.4006\n",
       "977   95       192.3600\n",
       "978  174       185.3347\n",
       "979  147       162.6316\n",
       "980  190       207.3386\n",
       "981  138       162.8980\n",
       "982  160       200.9113\n",
       "983  220       215.0255\n",
       "984  155       170.0261\n",
       "985  209       209.1311\n",
       "986  214       224.3073\n",
       "987  239       186.0275\n",
       "988  230       207.4414\n",
       "989  232       200.7138\n",
       "990  195       231.3014\n",
       "991  175       208.8647\n",
       "992  268       216.1564\n",
       "993  198       200.9113\n",
       "994  170       200.2498\n",
       "995  243       200.9749\n",
       "996  208       193.4220\n",
       "997  268       208.0002\n",
       "998  108       162.8980\n",
       "999  229       208.6671\n",
       "1000 187       207.4414"
      ]
     },
     "metadata": {},
     "output_type": "display_data"
    }
   ],
   "source": [
    "df1 %>%\n",
    "    summarize(cum_score = cum_score, pred = pred)"
   ]
  }
 ],
 "metadata": {
  "kernelspec": {
   "display_name": "R",
   "language": "R",
   "name": "ir"
  },
  "language_info": {
   "codemirror_mode": "r",
   "file_extension": ".r",
   "mimetype": "text/x-r-source",
   "name": "R",
   "pygments_lexer": "r",
   "version": "4.2.1"
  },
  "orig_nbformat": 4
 },
 "nbformat": 4,
 "nbformat_minor": 2
}
